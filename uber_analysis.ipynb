{
 "cells": [
  {
   "cell_type": "code",
   "execution_count": 4,
   "id": "7dbaffd0-a9ed-4b7e-a532-e39a3e6c34b6",
   "metadata": {},
   "outputs": [],
   "source": [
    "import numpy as np\n",
    "import pandas as pd \n",
    "import seaborn as sns\n",
    "import matplotlib.pyplot as plt"
   ]
  },
  {
   "cell_type": "code",
   "execution_count": 7,
   "id": "e802faa5-af78-4276-88bb-58ac023585df",
   "metadata": {},
   "outputs": [],
   "source": [
    "import os"
   ]
  },
  {
   "cell_type": "code",
   "execution_count": 12,
   "id": "abb21450-9db6-430a-8d47-c901a9b461d9",
   "metadata": {},
   "outputs": [
    {
     "data": {
      "text/plain": [
       "['other-American_B01362.csv',\n",
       " 'other-Carmel_B00256.csv',\n",
       " 'other-Dial7_B00887.csv',\n",
       " 'other-Diplo_B01196.csv',\n",
       " 'other-Federal_02216.csv',\n",
       " 'other-FHV-services_jan-aug-2015.csv',\n",
       " 'other-Firstclass_B01536.csv',\n",
       " 'other-Highclass_B01717.csv',\n",
       " 'other-Lyft_B02510.csv',\n",
       " 'other-Prestige_B01338.csv',\n",
       " 'other-Skyline_B00111.csv',\n",
       " 'Uber-Jan-Feb-FOIL.csv',\n",
       " 'uber-raw-data-apr14.csv',\n",
       " 'uber-raw-data-aug14.csv',\n",
       " 'uber-raw-data-janjune-15.csv',\n",
       " 'uber-raw-data-janjune-15_sample.csv',\n",
       " 'uber-raw-data-jul14.csv',\n",
       " 'uber-raw-data-jun14.csv',\n",
       " 'uber-raw-data-may14.csv',\n",
       " 'uber-raw-data-sep14.csv']"
      ]
     },
     "execution_count": 12,
     "metadata": {},
     "output_type": "execute_result"
    }
   ],
   "source": [
    "os.listdir(r\"C:\\Users\\Srinivasa Rao\\Downloads\\Uber\\Datasets\")"
   ]
  },
  {
   "cell_type": "code",
   "execution_count": 19,
   "id": "6f361793-48dc-4616-baad-fe2044857d2c",
   "metadata": {},
   "outputs": [],
   "source": [
    "uber = pd.read_csv(r\"C:\\Users\\Srinivasa Rao\\Downloads\\Uber\\Datasets/uber-raw-data-janjune-15_sample.csv\")"
   ]
  },
  {
   "cell_type": "code",
   "execution_count": 21,
   "id": "710ed02f-ec4a-4f89-ad32-c28820da7e61",
   "metadata": {},
   "outputs": [
    {
     "data": {
      "text/html": [
       "<div>\n",
       "<style scoped>\n",
       "    .dataframe tbody tr th:only-of-type {\n",
       "        vertical-align: middle;\n",
       "    }\n",
       "\n",
       "    .dataframe tbody tr th {\n",
       "        vertical-align: top;\n",
       "    }\n",
       "\n",
       "    .dataframe thead th {\n",
       "        text-align: right;\n",
       "    }\n",
       "</style>\n",
       "<table border=\"1\" class=\"dataframe\">\n",
       "  <thead>\n",
       "    <tr style=\"text-align: right;\">\n",
       "      <th></th>\n",
       "      <th>Dispatching_base_num</th>\n",
       "      <th>Pickup_date</th>\n",
       "      <th>Affiliated_base_num</th>\n",
       "      <th>locationID</th>\n",
       "    </tr>\n",
       "  </thead>\n",
       "  <tbody>\n",
       "    <tr>\n",
       "      <th>0</th>\n",
       "      <td>B02617</td>\n",
       "      <td>2015-05-02 21:43:00</td>\n",
       "      <td>B02764</td>\n",
       "      <td>237</td>\n",
       "    </tr>\n",
       "    <tr>\n",
       "      <th>1</th>\n",
       "      <td>B02682</td>\n",
       "      <td>2015-01-20 19:52:59</td>\n",
       "      <td>B02682</td>\n",
       "      <td>231</td>\n",
       "    </tr>\n",
       "    <tr>\n",
       "      <th>2</th>\n",
       "      <td>B02617</td>\n",
       "      <td>2015-03-19 20:26:00</td>\n",
       "      <td>B02617</td>\n",
       "      <td>161</td>\n",
       "    </tr>\n",
       "    <tr>\n",
       "      <th>3</th>\n",
       "      <td>B02764</td>\n",
       "      <td>2015-04-10 17:38:00</td>\n",
       "      <td>B02764</td>\n",
       "      <td>107</td>\n",
       "    </tr>\n",
       "    <tr>\n",
       "      <th>4</th>\n",
       "      <td>B02764</td>\n",
       "      <td>2015-03-23 07:03:00</td>\n",
       "      <td>B00111</td>\n",
       "      <td>140</td>\n",
       "    </tr>\n",
       "    <tr>\n",
       "      <th>...</th>\n",
       "      <td>...</td>\n",
       "      <td>...</td>\n",
       "      <td>...</td>\n",
       "      <td>...</td>\n",
       "    </tr>\n",
       "    <tr>\n",
       "      <th>99995</th>\n",
       "      <td>B02764</td>\n",
       "      <td>2015-04-13 16:12:00</td>\n",
       "      <td>B02764</td>\n",
       "      <td>234</td>\n",
       "    </tr>\n",
       "    <tr>\n",
       "      <th>99996</th>\n",
       "      <td>B02764</td>\n",
       "      <td>2015-03-06 21:32:00</td>\n",
       "      <td>B02764</td>\n",
       "      <td>24</td>\n",
       "    </tr>\n",
       "    <tr>\n",
       "      <th>99997</th>\n",
       "      <td>B02598</td>\n",
       "      <td>2015-03-19 19:56:00</td>\n",
       "      <td>B02598</td>\n",
       "      <td>17</td>\n",
       "    </tr>\n",
       "    <tr>\n",
       "      <th>99998</th>\n",
       "      <td>B02682</td>\n",
       "      <td>2015-05-02 16:02:00</td>\n",
       "      <td>B02682</td>\n",
       "      <td>68</td>\n",
       "    </tr>\n",
       "    <tr>\n",
       "      <th>99999</th>\n",
       "      <td>B02764</td>\n",
       "      <td>2015-06-24 16:04:00</td>\n",
       "      <td>B02764</td>\n",
       "      <td>125</td>\n",
       "    </tr>\n",
       "  </tbody>\n",
       "</table>\n",
       "<p>100000 rows × 4 columns</p>\n",
       "</div>"
      ],
      "text/plain": [
       "      Dispatching_base_num          Pickup_date Affiliated_base_num  \\\n",
       "0                   B02617  2015-05-02 21:43:00              B02764   \n",
       "1                   B02682  2015-01-20 19:52:59              B02682   \n",
       "2                   B02617  2015-03-19 20:26:00              B02617   \n",
       "3                   B02764  2015-04-10 17:38:00              B02764   \n",
       "4                   B02764  2015-03-23 07:03:00              B00111   \n",
       "...                    ...                  ...                 ...   \n",
       "99995               B02764  2015-04-13 16:12:00              B02764   \n",
       "99996               B02764  2015-03-06 21:32:00              B02764   \n",
       "99997               B02598  2015-03-19 19:56:00              B02598   \n",
       "99998               B02682  2015-05-02 16:02:00              B02682   \n",
       "99999               B02764  2015-06-24 16:04:00              B02764   \n",
       "\n",
       "       locationID  \n",
       "0             237  \n",
       "1             231  \n",
       "2             161  \n",
       "3             107  \n",
       "4             140  \n",
       "...           ...  \n",
       "99995         234  \n",
       "99996          24  \n",
       "99997          17  \n",
       "99998          68  \n",
       "99999         125  \n",
       "\n",
       "[100000 rows x 4 columns]"
      ]
     },
     "execution_count": 21,
     "metadata": {},
     "output_type": "execute_result"
    }
   ],
   "source": [
    "uber"
   ]
  },
  {
   "cell_type": "markdown",
   "id": "1409970b-474d-4d68-90a4-293a3fb95e1a",
   "metadata": {},
   "source": [
    "# the dataset has 15 Million data so we are taking the above sample dataset"
   ]
  },
  {
   "cell_type": "code",
   "execution_count": 24,
   "id": "aa4ffc13-32d6-4044-b86f-0ed0c117d37a",
   "metadata": {},
   "outputs": [
    {
     "data": {
      "text/plain": [
       "(100000, 4)"
      ]
     },
     "execution_count": 24,
     "metadata": {},
     "output_type": "execute_result"
    }
   ],
   "source": [
    "uber.shape"
   ]
  },
  {
   "cell_type": "markdown",
   "id": "89e2cdb6-d822-4879-bbf8-fd75ad7aa34c",
   "metadata": {},
   "source": [
    "Data Preprocessing / Data Cleaning"
   ]
  },
  {
   "cell_type": "code",
   "execution_count": 27,
   "id": "830cd3d0-88fa-472c-9814-b42d3bab3010",
   "metadata": {},
   "outputs": [
    {
     "data": {
      "text/plain": [
       "54"
      ]
     },
     "execution_count": 27,
     "metadata": {},
     "output_type": "execute_result"
    }
   ],
   "source": [
    "uber.duplicated().sum()"
   ]
  },
  {
   "cell_type": "code",
   "execution_count": 29,
   "id": "5c61294d-131a-4d71-9ac1-ca446c4ee275",
   "metadata": {},
   "outputs": [],
   "source": [
    "uber.drop_duplicates(inplace=True)"
   ]
  },
  {
   "cell_type": "code",
   "execution_count": 31,
   "id": "3dce8687-b663-49ee-8d73-5b5177324969",
   "metadata": {},
   "outputs": [
    {
     "data": {
      "text/plain": [
       "(99946, 4)"
      ]
     },
     "execution_count": 31,
     "metadata": {},
     "output_type": "execute_result"
    }
   ],
   "source": [
    "uber.shape"
   ]
  },
  {
   "cell_type": "code",
   "execution_count": 33,
   "id": "11bbf37d-d537-4080-8410-427954224e2c",
   "metadata": {},
   "outputs": [
    {
     "data": {
      "text/plain": [
       "Dispatching_base_num    object\n",
       "Pickup_date             object\n",
       "Affiliated_base_num     object\n",
       "locationID               int64\n",
       "dtype: object"
      ]
     },
     "execution_count": 33,
     "metadata": {},
     "output_type": "execute_result"
    }
   ],
   "source": [
    "uber.dtypes"
   ]
  },
  {
   "cell_type": "code",
   "execution_count": 35,
   "id": "15db69cd-79fa-4c73-a410-948c393726e9",
   "metadata": {},
   "outputs": [
    {
     "data": {
      "text/plain": [
       "Dispatching_base_num       0\n",
       "Pickup_date                0\n",
       "Affiliated_base_num     1116\n",
       "locationID                 0\n",
       "dtype: int64"
      ]
     },
     "execution_count": 35,
     "metadata": {},
     "output_type": "execute_result"
    }
   ],
   "source": [
    "uber.isnull().sum()"
   ]
  },
  {
   "cell_type": "code",
   "execution_count": 37,
   "id": "70e4c08f-c402-4736-b33e-4c28477f04f7",
   "metadata": {},
   "outputs": [],
   "source": [
    "uber['Pickup_date'] = pd.to_datetime(uber['Pickup_date'])"
   ]
  },
  {
   "cell_type": "code",
   "execution_count": 39,
   "id": "213026b1-ef42-4b7f-8eff-9153dfd8ce85",
   "metadata": {},
   "outputs": [
    {
     "data": {
      "text/plain": [
       "Dispatching_base_num            object\n",
       "Pickup_date             datetime64[ns]\n",
       "Affiliated_base_num             object\n",
       "locationID                       int64\n",
       "dtype: object"
      ]
     },
     "execution_count": 39,
     "metadata": {},
     "output_type": "execute_result"
    }
   ],
   "source": [
    "uber.dtypes"
   ]
  },
  {
   "cell_type": "code",
   "execution_count": 41,
   "id": "6531b4cd-01a3-4487-94d9-be0ecd969b0f",
   "metadata": {},
   "outputs": [],
   "source": [
    "uber.dropna(inplace=True)"
   ]
  },
  {
   "cell_type": "code",
   "execution_count": 43,
   "id": "b943f685-8bb2-46da-99b8-564463821061",
   "metadata": {},
   "outputs": [
    {
     "data": {
      "text/plain": [
       "Dispatching_base_num    0\n",
       "Pickup_date             0\n",
       "Affiliated_base_num     0\n",
       "locationID              0\n",
       "dtype: int64"
      ]
     },
     "execution_count": 43,
     "metadata": {},
     "output_type": "execute_result"
    }
   ],
   "source": [
    "uber.isnull().sum()"
   ]
  },
  {
   "cell_type": "code",
   "execution_count": 45,
   "id": "7d981d88-90c6-4d1a-8fad-36e66473ec10",
   "metadata": {},
   "outputs": [
    {
     "data": {
      "text/plain": [
       "(98830, 4)"
      ]
     },
     "execution_count": 45,
     "metadata": {},
     "output_type": "execute_result"
    }
   ],
   "source": [
    "uber.shape"
   ]
  },
  {
   "cell_type": "markdown",
   "id": "9a7cbef5-0587-4c04-b921-53aa91feeb3e",
   "metadata": {},
   "source": [
    "Data Analysis\n",
    "\n",
    "Which month have maximum Uber pickups in New York City?"
   ]
  },
  {
   "cell_type": "code",
   "execution_count": 49,
   "id": "e4f751cf-8af5-4701-91c3-5f41c39d6e0d",
   "metadata": {},
   "outputs": [],
   "source": [
    "uber['month'] = uber['Pickup_date'].dt.month_name()"
   ]
  },
  {
   "cell_type": "code",
   "execution_count": 51,
   "id": "5db52db3-247a-4aa0-a842-ebc30cc832d7",
   "metadata": {},
   "outputs": [
    {
     "data": {
      "text/plain": [
       "<Axes: xlabel='month'>"
      ]
     },
     "execution_count": 51,
     "metadata": {},
     "output_type": "execute_result"
    },
    {
     "data": {
      "image/png": "[encoded data removed]",
      "text/plain": [
       "<Figure size 640x480 with 1 Axes>"
      ]
     },
     "metadata": {},
     "output_type": "display_data"
    }
   ],
   "source": [
    "uber['month'].value_counts().plot(kind='bar')"
   ]
  },
  {
   "cell_type": "code",
   "execution_count": 53,
   "id": "08e07854-87bb-4ea3-9e66-d63c7e5d310b",
   "metadata": {},
   "outputs": [],
   "source": [
    "uber['weekdays'] = uber['Pickup_date'].dt.day_name()"
   ]
  },
  {
   "cell_type": "code",
   "execution_count": 55,
   "id": "406e7daa-8c19-463c-9771-46cbaf75084f",
   "metadata": {},
   "outputs": [
    {
     "data": {
      "text/html": [
       "<div>\n",
       "<style scoped>\n",
       "    .dataframe tbody tr th:only-of-type {\n",
       "        vertical-align: middle;\n",
       "    }\n",
       "\n",
       "    .dataframe tbody tr th {\n",
       "        vertical-align: top;\n",
       "    }\n",
       "\n",
       "    .dataframe thead th {\n",
       "        text-align: right;\n",
       "    }\n",
       "</style>\n",
       "<table border=\"1\" class=\"dataframe\">\n",
       "  <thead>\n",
       "    <tr style=\"text-align: right;\">\n",
       "      <th></th>\n",
       "      <th>Dispatching_base_num</th>\n",
       "      <th>Pickup_date</th>\n",
       "      <th>Affiliated_base_num</th>\n",
       "      <th>locationID</th>\n",
       "      <th>month</th>\n",
       "      <th>weekdays</th>\n",
       "    </tr>\n",
       "  </thead>\n",
       "  <tbody>\n",
       "    <tr>\n",
       "      <th>0</th>\n",
       "      <td>B02617</td>\n",
       "      <td>2015-05-02 21:43:00</td>\n",
       "      <td>B02764</td>\n",
       "      <td>237</td>\n",
       "      <td>May</td>\n",
       "      <td>Saturday</td>\n",
       "    </tr>\n",
       "    <tr>\n",
       "      <th>1</th>\n",
       "      <td>B02682</td>\n",
       "      <td>2015-01-20 19:52:59</td>\n",
       "      <td>B02682</td>\n",
       "      <td>231</td>\n",
       "      <td>January</td>\n",
       "      <td>Tuesday</td>\n",
       "    </tr>\n",
       "    <tr>\n",
       "      <th>2</th>\n",
       "      <td>B02617</td>\n",
       "      <td>2015-03-19 20:26:00</td>\n",
       "      <td>B02617</td>\n",
       "      <td>161</td>\n",
       "      <td>March</td>\n",
       "      <td>Thursday</td>\n",
       "    </tr>\n",
       "    <tr>\n",
       "      <th>3</th>\n",
       "      <td>B02764</td>\n",
       "      <td>2015-04-10 17:38:00</td>\n",
       "      <td>B02764</td>\n",
       "      <td>107</td>\n",
       "      <td>April</td>\n",
       "      <td>Friday</td>\n",
       "    </tr>\n",
       "  </tbody>\n",
       "</table>\n",
       "</div>"
      ],
      "text/plain": [
       "  Dispatching_base_num         Pickup_date Affiliated_base_num  locationID  \\\n",
       "0               B02617 2015-05-02 21:43:00              B02764         237   \n",
       "1               B02682 2015-01-20 19:52:59              B02682         231   \n",
       "2               B02617 2015-03-19 20:26:00              B02617         161   \n",
       "3               B02764 2015-04-10 17:38:00              B02764         107   \n",
       "\n",
       "     month  weekdays  \n",
       "0      May  Saturday  \n",
       "1  January   Tuesday  \n",
       "2    March  Thursday  \n",
       "3    April    Friday  "
      ]
     },
     "execution_count": 55,
     "metadata": {},
     "output_type": "execute_result"
    }
   ],
   "source": [
    "uber.head(4)"
   ]
  },
  {
   "cell_type": "code",
   "execution_count": 57,
   "id": "5fc00c96-d96f-46b4-9c9c-65e96b657cc5",
   "metadata": {},
   "outputs": [
    {
     "data": {
      "text/html": [
       "<div>\n",
       "<style scoped>\n",
       "    .dataframe tbody tr th:only-of-type {\n",
       "        vertical-align: middle;\n",
       "    }\n",
       "\n",
       "    .dataframe tbody tr th {\n",
       "        vertical-align: top;\n",
       "    }\n",
       "\n",
       "    .dataframe thead th {\n",
       "        text-align: right;\n",
       "    }\n",
       "</style>\n",
       "<table border=\"1\" class=\"dataframe\">\n",
       "  <thead>\n",
       "    <tr style=\"text-align: right;\">\n",
       "      <th>weekdays</th>\n",
       "      <th>Friday</th>\n",
       "      <th>Monday</th>\n",
       "      <th>Saturday</th>\n",
       "      <th>Sunday</th>\n",
       "      <th>Thursday</th>\n",
       "      <th>Tuesday</th>\n",
       "      <th>Wednesday</th>\n",
       "    </tr>\n",
       "    <tr>\n",
       "      <th>month</th>\n",
       "      <th></th>\n",
       "      <th></th>\n",
       "      <th></th>\n",
       "      <th></th>\n",
       "      <th></th>\n",
       "      <th></th>\n",
       "      <th></th>\n",
       "    </tr>\n",
       "  </thead>\n",
       "  <tbody>\n",
       "    <tr>\n",
       "      <th>April</th>\n",
       "      <td>2365</td>\n",
       "      <td>1833</td>\n",
       "      <td>2508</td>\n",
       "      <td>2052</td>\n",
       "      <td>2823</td>\n",
       "      <td>1880</td>\n",
       "      <td>2521</td>\n",
       "    </tr>\n",
       "    <tr>\n",
       "      <th>February</th>\n",
       "      <td>2580</td>\n",
       "      <td>1907</td>\n",
       "      <td>2455</td>\n",
       "      <td>2095</td>\n",
       "      <td>2333</td>\n",
       "      <td>2043</td>\n",
       "      <td>1936</td>\n",
       "    </tr>\n",
       "    <tr>\n",
       "      <th>January</th>\n",
       "      <td>2414</td>\n",
       "      <td>1300</td>\n",
       "      <td>2614</td>\n",
       "      <td>1573</td>\n",
       "      <td>2287</td>\n",
       "      <td>1389</td>\n",
       "      <td>1673</td>\n",
       "    </tr>\n",
       "    <tr>\n",
       "      <th>June</th>\n",
       "      <td>2793</td>\n",
       "      <td>2848</td>\n",
       "      <td>3037</td>\n",
       "      <td>2485</td>\n",
       "      <td>2767</td>\n",
       "      <td>3187</td>\n",
       "      <td>2503</td>\n",
       "    </tr>\n",
       "    <tr>\n",
       "      <th>March</th>\n",
       "      <td>2465</td>\n",
       "      <td>2115</td>\n",
       "      <td>2522</td>\n",
       "      <td>2379</td>\n",
       "      <td>2093</td>\n",
       "      <td>2388</td>\n",
       "      <td>2007</td>\n",
       "    </tr>\n",
       "    <tr>\n",
       "      <th>May</th>\n",
       "      <td>3262</td>\n",
       "      <td>1865</td>\n",
       "      <td>3519</td>\n",
       "      <td>2944</td>\n",
       "      <td>2627</td>\n",
       "      <td>2115</td>\n",
       "      <td>2328</td>\n",
       "    </tr>\n",
       "  </tbody>\n",
       "</table>\n",
       "</div>"
      ],
      "text/plain": [
       "weekdays  Friday  Monday  Saturday  Sunday  Thursday  Tuesday  Wednesday\n",
       "month                                                                   \n",
       "April       2365    1833      2508    2052      2823     1880       2521\n",
       "February    2580    1907      2455    2095      2333     2043       1936\n",
       "January     2414    1300      2614    1573      2287     1389       1673\n",
       "June        2793    2848      3037    2485      2767     3187       2503\n",
       "March       2465    2115      2522    2379      2093     2388       2007\n",
       "May         3262    1865      3519    2944      2627     2115       2328"
      ]
     },
     "execution_count": 57,
     "metadata": {},
     "output_type": "execute_result"
    }
   ],
   "source": [
    "pivot = pd.crosstab(index=uber['month'], columns = uber['weekdays'])\n",
    "pivot"
   ]
  },
  {
   "cell_type": "code",
   "execution_count": 59,
   "id": "dafc3746-3c8f-4a08-92de-4ef1537ee660",
   "metadata": {},
   "outputs": [
    {
     "data": {
      "text/plain": [
       "<Axes: xlabel='month'>"
      ]
     },
     "execution_count": 59,
     "metadata": {},
     "output_type": "execute_result"
    },
    {
     "data": {
      "image/png": "[encoded data removed]",
      "text/plain": [
       "<Figure size 800x800 with 1 Axes>"
      ]
     },
     "metadata": {},
     "output_type": "display_data"
    }
   ],
   "source": [
    "pivot.plot(kind='bar', figsize=(8,8))\n"
   ]
  },
  {
   "cell_type": "markdown",
   "id": "3675abba-77ef-47fc-897d-ba1650721dac",
   "metadata": {},
   "source": [
    "The hourly rush in New York city on all days"
   ]
  },
  {
   "cell_type": "code",
   "execution_count": 62,
   "id": "97b0d3aa-d8a8-4624-8a88-eae0b44217e5",
   "metadata": {},
   "outputs": [],
   "source": [
    "uber['hours'] = uber['Pickup_date'].dt.hour"
   ]
  },
  {
   "cell_type": "code",
   "execution_count": 64,
   "id": "4d808b30-5615-47f7-beb5-038c2930b147",
   "metadata": {},
   "outputs": [
    {
     "data": {
      "text/plain": [
       "0    21\n",
       "1    19\n",
       "2    20\n",
       "3    17\n",
       "Name: hours, dtype: int32"
      ]
     },
     "execution_count": 64,
     "metadata": {},
     "output_type": "execute_result"
    }
   ],
   "source": [
    "uber['hours'].head(4)"
   ]
  },
  {
   "cell_type": "code",
   "execution_count": 66,
   "id": "1737284f-be06-4400-9126-cb646d4ed0ac",
   "metadata": {},
   "outputs": [
    {
     "data": {
      "text/html": [
       "<div>\n",
       "<style scoped>\n",
       "    .dataframe tbody tr th:only-of-type {\n",
       "        vertical-align: middle;\n",
       "    }\n",
       "\n",
       "    .dataframe tbody tr th {\n",
       "        vertical-align: top;\n",
       "    }\n",
       "\n",
       "    .dataframe thead th {\n",
       "        text-align: right;\n",
       "    }\n",
       "</style>\n",
       "<table border=\"1\" class=\"dataframe\">\n",
       "  <thead>\n",
       "    <tr style=\"text-align: right;\">\n",
       "      <th></th>\n",
       "      <th>weekdays</th>\n",
       "      <th>hours</th>\n",
       "      <th>size</th>\n",
       "    </tr>\n",
       "  </thead>\n",
       "  <tbody>\n",
       "    <tr>\n",
       "      <th>0</th>\n",
       "      <td>Friday</td>\n",
       "      <td>0</td>\n",
       "      <td>576</td>\n",
       "    </tr>\n",
       "    <tr>\n",
       "      <th>1</th>\n",
       "      <td>Friday</td>\n",
       "      <td>1</td>\n",
       "      <td>332</td>\n",
       "    </tr>\n",
       "    <tr>\n",
       "      <th>2</th>\n",
       "      <td>Friday</td>\n",
       "      <td>2</td>\n",
       "      <td>194</td>\n",
       "    </tr>\n",
       "    <tr>\n",
       "      <th>3</th>\n",
       "      <td>Friday</td>\n",
       "      <td>3</td>\n",
       "      <td>137</td>\n",
       "    </tr>\n",
       "    <tr>\n",
       "      <th>4</th>\n",
       "      <td>Friday</td>\n",
       "      <td>4</td>\n",
       "      <td>158</td>\n",
       "    </tr>\n",
       "    <tr>\n",
       "      <th>...</th>\n",
       "      <td>...</td>\n",
       "      <td>...</td>\n",
       "      <td>...</td>\n",
       "    </tr>\n",
       "    <tr>\n",
       "      <th>163</th>\n",
       "      <td>Wednesday</td>\n",
       "      <td>19</td>\n",
       "      <td>1026</td>\n",
       "    </tr>\n",
       "    <tr>\n",
       "      <th>164</th>\n",
       "      <td>Wednesday</td>\n",
       "      <td>20</td>\n",
       "      <td>893</td>\n",
       "    </tr>\n",
       "    <tr>\n",
       "      <th>165</th>\n",
       "      <td>Wednesday</td>\n",
       "      <td>21</td>\n",
       "      <td>937</td>\n",
       "    </tr>\n",
       "    <tr>\n",
       "      <th>166</th>\n",
       "      <td>Wednesday</td>\n",
       "      <td>22</td>\n",
       "      <td>890</td>\n",
       "    </tr>\n",
       "    <tr>\n",
       "      <th>167</th>\n",
       "      <td>Wednesday</td>\n",
       "      <td>23</td>\n",
       "      <td>665</td>\n",
       "    </tr>\n",
       "  </tbody>\n",
       "</table>\n",
       "<p>168 rows × 3 columns</p>\n",
       "</div>"
      ],
      "text/plain": [
       "      weekdays  hours  size\n",
       "0       Friday      0   576\n",
       "1       Friday      1   332\n",
       "2       Friday      2   194\n",
       "3       Friday      3   137\n",
       "4       Friday      4   158\n",
       "..         ...    ...   ...\n",
       "163  Wednesday     19  1026\n",
       "164  Wednesday     20   893\n",
       "165  Wednesday     21   937\n",
       "166  Wednesday     22   890\n",
       "167  Wednesday     23   665\n",
       "\n",
       "[168 rows x 3 columns]"
      ]
     },
     "execution_count": 66,
     "metadata": {},
     "output_type": "execute_result"
    }
   ],
   "source": [
    "summary = uber.groupby(['weekdays', 'hours'], as_index=False).size()\n",
    "summary"
   ]
  },
  {
   "cell_type": "code",
   "execution_count": 68,
   "id": "e5b85e19-4ac1-40f0-a839-17f49aa3f2ca",
   "metadata": {},
   "outputs": [
    {
     "data": {
      "text/plain": [
       "<Axes: xlabel='hours', ylabel='size'>"
      ]
     },
     "execution_count": 68,
     "metadata": {},
     "output_type": "execute_result"
    },
    {
     "data": {
      "image/png": "[encoded data removed]",
      "text/plain": [
       "<Figure size 800x800 with 1 Axes>"
      ]
     },
     "metadata": {},
     "output_type": "display_data"
    }
   ],
   "source": [
    "plt.figure(figsize=(8,8))\n",
    "sns.pointplot(x = \"hours\", y = \"size\", hue=\"weekdays\", data = summary )"
   ]
  },
  {
   "cell_type": "code",
   "execution_count": 70,
   "id": "1441eab3-241e-4fc1-9bf7-8b1e4145cc13",
   "metadata": {},
   "outputs": [
    {
     "data": {
      "text/html": [
       "<div>\n",
       "<style scoped>\n",
       "    .dataframe tbody tr th:only-of-type {\n",
       "        vertical-align: middle;\n",
       "    }\n",
       "\n",
       "    .dataframe tbody tr th {\n",
       "        vertical-align: top;\n",
       "    }\n",
       "\n",
       "    .dataframe thead th {\n",
       "        text-align: right;\n",
       "    }\n",
       "</style>\n",
       "<table border=\"1\" class=\"dataframe\">\n",
       "  <thead>\n",
       "    <tr style=\"text-align: right;\">\n",
       "      <th></th>\n",
       "      <th>dispatching_base_number</th>\n",
       "      <th>date</th>\n",
       "      <th>active_vehicles</th>\n",
       "      <th>trips</th>\n",
       "    </tr>\n",
       "  </thead>\n",
       "  <tbody>\n",
       "    <tr>\n",
       "      <th>0</th>\n",
       "      <td>B02512</td>\n",
       "      <td>1/1/2015</td>\n",
       "      <td>190</td>\n",
       "      <td>1132</td>\n",
       "    </tr>\n",
       "    <tr>\n",
       "      <th>1</th>\n",
       "      <td>B02765</td>\n",
       "      <td>1/1/2015</td>\n",
       "      <td>225</td>\n",
       "      <td>1765</td>\n",
       "    </tr>\n",
       "    <tr>\n",
       "      <th>2</th>\n",
       "      <td>B02764</td>\n",
       "      <td>1/1/2015</td>\n",
       "      <td>3427</td>\n",
       "      <td>29421</td>\n",
       "    </tr>\n",
       "    <tr>\n",
       "      <th>3</th>\n",
       "      <td>B02682</td>\n",
       "      <td>1/1/2015</td>\n",
       "      <td>945</td>\n",
       "      <td>7679</td>\n",
       "    </tr>\n",
       "    <tr>\n",
       "      <th>4</th>\n",
       "      <td>B02617</td>\n",
       "      <td>1/1/2015</td>\n",
       "      <td>1228</td>\n",
       "      <td>9537</td>\n",
       "    </tr>\n",
       "    <tr>\n",
       "      <th>...</th>\n",
       "      <td>...</td>\n",
       "      <td>...</td>\n",
       "      <td>...</td>\n",
       "      <td>...</td>\n",
       "    </tr>\n",
       "    <tr>\n",
       "      <th>349</th>\n",
       "      <td>B02764</td>\n",
       "      <td>2/28/2015</td>\n",
       "      <td>3952</td>\n",
       "      <td>39812</td>\n",
       "    </tr>\n",
       "    <tr>\n",
       "      <th>350</th>\n",
       "      <td>B02617</td>\n",
       "      <td>2/28/2015</td>\n",
       "      <td>1372</td>\n",
       "      <td>14022</td>\n",
       "    </tr>\n",
       "    <tr>\n",
       "      <th>351</th>\n",
       "      <td>B02682</td>\n",
       "      <td>2/28/2015</td>\n",
       "      <td>1386</td>\n",
       "      <td>14472</td>\n",
       "    </tr>\n",
       "    <tr>\n",
       "      <th>352</th>\n",
       "      <td>B02512</td>\n",
       "      <td>2/28/2015</td>\n",
       "      <td>230</td>\n",
       "      <td>1803</td>\n",
       "    </tr>\n",
       "    <tr>\n",
       "      <th>353</th>\n",
       "      <td>B02765</td>\n",
       "      <td>2/28/2015</td>\n",
       "      <td>747</td>\n",
       "      <td>7753</td>\n",
       "    </tr>\n",
       "  </tbody>\n",
       "</table>\n",
       "<p>354 rows × 4 columns</p>\n",
       "</div>"
      ],
      "text/plain": [
       "    dispatching_base_number       date  active_vehicles  trips\n",
       "0                    B02512   1/1/2015              190   1132\n",
       "1                    B02765   1/1/2015              225   1765\n",
       "2                    B02764   1/1/2015             3427  29421\n",
       "3                    B02682   1/1/2015              945   7679\n",
       "4                    B02617   1/1/2015             1228   9537\n",
       "..                      ...        ...              ...    ...\n",
       "349                  B02764  2/28/2015             3952  39812\n",
       "350                  B02617  2/28/2015             1372  14022\n",
       "351                  B02682  2/28/2015             1386  14472\n",
       "352                  B02512  2/28/2015              230   1803\n",
       "353                  B02765  2/28/2015              747   7753\n",
       "\n",
       "[354 rows x 4 columns]"
      ]
     },
     "execution_count": 70,
     "metadata": {},
     "output_type": "execute_result"
    }
   ],
   "source": [
    "uber_foil = pd.read_csv(r\"C:\\Users\\Srinivasa Rao\\Downloads\\Uber\\Datasets/Uber-Jan-Feb-FOIL.csv\")\n",
    "uber_foil"
   ]
  },
  {
   "cell_type": "code",
   "execution_count": 73,
   "id": "9d975bba-da98-4009-be3d-4b3aec63cecc",
   "metadata": {},
   "outputs": [
    {
     "name": "stdout",
     "output_type": "stream",
     "text": [
      "Requirement already satisfied: chart_studio in c:\\anaconda\\lib\\site-packages (1.1.0)\n",
      "Requirement already satisfied: plotly in c:\\anaconda\\lib\\site-packages (from chart_studio) (5.9.0)\n",
      "Requirement already satisfied: requests in c:\\anaconda\\lib\\site-packages (from chart_studio) (2.31.0)\n",
      "Requirement already satisfied: retrying>=1.3.3 in c:\\anaconda\\lib\\site-packages (from chart_studio) (1.3.4)\n",
      "Requirement already satisfied: six in c:\\anaconda\\lib\\site-packages (from chart_studio) (1.16.0)\n",
      "Requirement already satisfied: tenacity>=6.2.0 in c:\\anaconda\\lib\\site-packages (from plotly->chart_studio) (8.2.2)\n",
      "Requirement already satisfied: charset-normalizer<4,>=2 in c:\\anaconda\\lib\\site-packages (from requests->chart_studio) (2.0.4)\n",
      "Requirement already satisfied: idna<4,>=2.5 in c:\\anaconda\\lib\\site-packages (from requests->chart_studio) (3.4)\n",
      "Requirement already satisfied: urllib3<3,>=1.21.1 in c:\\anaconda\\lib\\site-packages (from requests->chart_studio) (2.0.7)\n",
      "Requirement already satisfied: certifi>=2017.4.17 in c:\\anaconda\\lib\\site-packages (from requests->chart_studio) (2024.7.4)\n",
      "Requirement already satisfied: plotly in c:\\anaconda\\lib\\site-packages (5.9.0)\n",
      "Requirement already satisfied: tenacity>=6.2.0 in c:\\anaconda\\lib\\site-packages (from plotly) (8.2.2)\n"
     ]
    }
   ],
   "source": [
    "!pip install chart_studio\n",
    "! pip install plotly"
   ]
  },
  {
   "cell_type": "code",
   "execution_count": 74,
   "id": "d9e4864f-4e23-49a4-8c8a-ae1763db683d",
   "metadata": {},
   "outputs": [],
   "source": [
    "import chart_studio.plotly as py\n",
    "import plotly.graph_objs as go\n",
    "import plotly.express as px\n",
    "\n",
    "from plotly.offline import download_plotlyjs, init_notebook_mode, plot, iplot"
   ]
  },
  {
   "cell_type": "code",
   "execution_count": 77,
   "id": "d956f3f9-bcc1-444f-a99c-df246acd0fb9",
   "metadata": {},
   "outputs": [
    {
     "data": {
      "text/html": [
       "        <script type=\"text/javascript\">\n",
       "        window.PlotlyConfig = {MathJaxConfig: 'local'};\n",
       "        if (window.MathJax && window.MathJax.Hub && window.MathJax.Hub.Config) {window.MathJax.Hub.Config({SVG: {font: \"STIX-Web\"}});}\n",
       "        if (typeof require !== 'undefined') {\n",
       "        require.undef(\"plotly\");\n",
       "        requirejs.config({\n",
       "            paths: {\n",
       "                'plotly': ['https://cdn.plot.ly/plotly-2.12.1.min']\n",
       "            }\n",
       "        });\n",
       "        require(['plotly'], function(Plotly) {\n",
       "            window._Plotly = Plotly;\n",
       "        });\n",
       "        }\n",
       "        </script>\n",
       "        "
      ]
     },
     "metadata": {},
     "output_type": "display_data"
    }
   ],
   "source": [
    "init_notebook_mode(connected=True)"
   ]
  },
  {
   "cell_type": "code",
   "execution_count": 79,
   "id": "7e544ff4-b0bd-4977-8455-7fc663380df1",
   "metadata": {},
   "outputs": [
    {
     "data": {
      "text/plain": [
       "Index(['dispatching_base_number', 'date', 'active_vehicles', 'trips'], dtype='object')"
      ]
     },
     "execution_count": 79,
     "metadata": {},
     "output_type": "execute_result"
    }
   ],
   "source": [
    "uber_foil.columns"
   ]
  },
  {
   "cell_type": "code",
   "execution_count": 81,
   "id": "24a5548a-da27-487b-9ebb-05b6cb628574",
   "metadata": {},
   "outputs": [
    {
     "data": {
      "application/vnd.plotly.v1+json": {
       "config": {
        "plotlyServerURL": "https://plot.ly"
       },
       "data": [
        {
         "alignmentgroup": "True",
         "hovertemplate": "dispatching_base_number=%{x}<br>active_vehicles=%{y}<extra></extra>",
         "legendgroup": "",
         "marker": {
          "color": "#636efa"
         },
         "name": "",
         "notched": false,
         "offsetgroup": "",
         "orientation": "v",
         "showlegend": false,
         "type": "box",
         "x": [
          "B02512",
          "B02765",
          "B02764",
          "B02682",
          "B02617",
          "B02598",
          "B02598",
          "B02617",
          "B02512",
          "B02682",
          "B02765",
          "B02764",
          "B02765",
          "B02617",
          "B02598",
          "B02682",
          "B02512",
          "B02764",
          "B02512",
          "B02682",
          "B02598",
          "B02765",
          "B02617",
          "B02764",
          "B02512",
          "B02682",
          "B02617",
          "B02764",
          "B02598",
          "B02765",
          "B02764",
          "B02682",
          "B02617",
          "B02765",
          "B02512",
          "B02598",
          "B02617",
          "B02682",
          "B02764",
          "B02765",
          "B02512",
          "B02598",
          "B02765",
          "B02598",
          "B02512",
          "B02682",
          "B02764",
          "B02617",
          "B02617",
          "B02512",
          "B02764",
          "B02682",
          "B02598",
          "B02765",
          "B02682",
          "B02617",
          "B02598",
          "B02512",
          "B02764",
          "B02765",
          "B02765",
          "B02598",
          "B02682",
          "B02764",
          "B02617",
          "B02512",
          "B02764",
          "B02765",
          "B02512",
          "B02598",
          "B02682",
          "B02617",
          "B02765",
          "B02598",
          "B02617",
          "B02512",
          "B02764",
          "B02682",
          "B02764",
          "B02765",
          "B02598",
          "B02512",
          "B02617",
          "B02682",
          "B02512",
          "B02682",
          "B02617",
          "B02765",
          "B02764",
          "B02598",
          "B02617",
          "B02765",
          "B02764",
          "B02682",
          "B02512",
          "B02598",
          "B02598",
          "B02512",
          "B02682",
          "B02765",
          "B02617",
          "B02764",
          "B02512",
          "B02598",
          "B02765",
          "B02764",
          "B02682",
          "B02617",
          "B02682",
          "B02617",
          "B02765",
          "B02764",
          "B02512",
          "B02598",
          "B02598",
          "B02682",
          "B02512",
          "B02764",
          "B02765",
          "B02617",
          "B02764",
          "B02512",
          "B02682",
          "B02598",
          "B02765",
          "B02617",
          "B02617",
          "B02764",
          "B02512",
          "B02598",
          "B02682",
          "B02765",
          "B02598",
          "B02512",
          "B02765",
          "B02764",
          "B02617",
          "B02682",
          "B02598",
          "B02764",
          "B02512",
          "B02617",
          "B02682",
          "B02765",
          "B02512",
          "B02764",
          "B02765",
          "B02598",
          "B02682",
          "B02617",
          "B02617",
          "B02598",
          "B02765",
          "B02764",
          "B02682",
          "B02512",
          "B02682",
          "B02765",
          "B02617",
          "B02598",
          "B02512",
          "B02764",
          "B02764",
          "B02682",
          "B02765",
          "B02617",
          "B02598",
          "B02512",
          "B02617",
          "B02764",
          "B02682",
          "B02765",
          "B02512",
          "B02598",
          "B02512",
          "B02617",
          "B02682",
          "B02764",
          "B02765",
          "B02598",
          "B02765",
          "B02512",
          "B02617",
          "B02682",
          "B02764",
          "B02598",
          "B02598",
          "B02682",
          "B02512",
          "B02765",
          "B02617",
          "B02764",
          "B02617",
          "B02682",
          "B02765",
          "B02598",
          "B02764",
          "B02512",
          "B02765",
          "B02598",
          "B02512",
          "B02764",
          "B02617",
          "B02682",
          "B02764",
          "B02765",
          "B02512",
          "B02682",
          "B02617",
          "B02598",
          "B02617",
          "B02682",
          "B02598",
          "B02512",
          "B02765",
          "B02764",
          "B02617",
          "B02765",
          "B02598",
          "B02512",
          "B02764",
          "B02682",
          "B02598",
          "B02512",
          "B02617",
          "B02682",
          "B02764",
          "B02765",
          "B02764",
          "B02765",
          "B02598",
          "B02617",
          "B02682",
          "B02512",
          "B02617",
          "B02682",
          "B02598",
          "B02764",
          "B02512",
          "B02765",
          "B02764",
          "B02512",
          "B02617",
          "B02765",
          "B02682",
          "B02598",
          "B02617",
          "B02764",
          "B02512",
          "B02598",
          "B02765",
          "B02682",
          "B02617",
          "B02512",
          "B02682",
          "B02765",
          "B02598",
          "B02764",
          "B02617",
          "B02682",
          "B02764",
          "B02765",
          "B02512",
          "B02598",
          "B02764",
          "B02512",
          "B02598",
          "B02765",
          "B02617",
          "B02682",
          "B02682",
          "B02764",
          "B02617",
          "B02765",
          "B02512",
          "B02598",
          "B02598",
          "B02512",
          "B02617",
          "B02764",
          "B02682",
          "B02765",
          "B02764",
          "B02512",
          "B02682",
          "B02617",
          "B02598",
          "B02765",
          "B02598",
          "B02682",
          "B02617",
          "B02765",
          "B02764",
          "B02512",
          "B02598",
          "B02512",
          "B02682",
          "B02764",
          "B02765",
          "B02617",
          "B02764",
          "B02617",
          "B02598",
          "B02682",
          "B02765",
          "B02512",
          "B02598",
          "B02682",
          "B02765",
          "B02617",
          "B02512",
          "B02764",
          "B02512",
          "B02617",
          "B02682",
          "B02764",
          "B02598",
          "B02765",
          "B02598",
          "B02617",
          "B02764",
          "B02682",
          "B02765",
          "B02512",
          "B02764",
          "B02512",
          "B02598",
          "B02682",
          "B02617",
          "B02765",
          "B02512",
          "B02598",
          "B02765",
          "B02682",
          "B02617",
          "B02764",
          "B02598",
          "B02617",
          "B02682",
          "B02512",
          "B02765",
          "B02764",
          "B02765",
          "B02617",
          "B02598",
          "B02512",
          "B02764",
          "B02682",
          "B02598",
          "B02764",
          "B02617",
          "B02682",
          "B02512",
          "B02765"
         ],
         "x0": " ",
         "xaxis": "x",
         "y": [
          190,
          225,
          3427,
          945,
          1228,
          870,
          785,
          1137,
          175,
          890,
          196,
          3147,
          201,
          1188,
          818,
          915,
          173,
          3215,
          147,
          812,
          746,
          183,
          1088,
          2862,
          194,
          951,
          1218,
          3387,
          907,
          227,
          3473,
          1022,
          1336,
          234,
          218,
          933,
          1363,
          1039,
          3603,
          248,
          217,
          974,
          262,
          1070,
          238,
          1135,
          3831,
          1463,
          1455,
          224,
          3820,
          1140,
          1070,
          280,
          1057,
          1331,
          949,
          206,
          3558,
          245,
          220,
          832,
          943,
          3186,
          1228,
          162,
          3499,
          279,
          217,
          964,
          1082,
          1323,
          258,
          975,
          1342,
          234,
          3658,
          1092,
          3736,
          271,
          1030,
          233,
          1405,
          1174,
          237,
          1208,
          1457,
          270,
          3840,
          1068,
          1445,
          290,
          3975,
          1250,
          234,
          1079,
          974,
          201,
          1137,
          252,
          1306,
          3657,
          177,
          869,
          248,
          3290,
          1056,
          1223,
          883,
          992,
          238,
          2958,
          168,
          706,
          944,
          1151,
          221,
          3654,
          272,
          1350,
          3718,
          242,
          1228,
          1035,
          296,
          1429,
          1471,
          3889,
          246,
          1071,
          1295,
          295,
          1093,
          246,
          299,
          4040,
          1482,
          1330,
          945,
          3652,
          211,
          1367,
          1223,
          245,
          183,
          3300,
          226,
          829,
          1046,
          1203,
          1150,
          860,
          230,
          3012,
          1084,
          197,
          600,
          135,
          596,
          434,
          112,
          1619,
          3692,
          1235,
          286,
          1356,
          1011,
          235,
          1474,
          3959,
          1316,
          295,
          250,
          1082,
          256,
          1501,
          1384,
          4124,
          322,
          1106,
          309,
          225,
          1394,
          1321,
          3947,
          1027,
          961,
          1214,
          193,
          289,
          1355,
          3740,
          1217,
          1152,
          275,
          939,
          3270,
          227,
          299,
          991,
          257,
          3674,
          1350,
          1269,
          3856,
          309,
          244,
          1311,
          1393,
          1072,
          1524,
          1418,
          1179,
          264,
          355,
          4093,
          1526,
          385,
          1181,
          261,
          4170,
          1414,
          1031,
          211,
          1383,
          1300,
          3849,
          345,
          3422,
          313,
          923,
          1256,
          1136,
          176,
          1312,
          1241,
          976,
          3543,
          228,
          388,
          3700,
          233,
          1364,
          422,
          1281,
          1029,
          1450,
          3849,
          255,
          1115,
          450,
          1396,
          1532,
          269,
          1468,
          536,
          1181,
          4137,
          1590,
          1523,
          4395,
          599,
          281,
          1216,
          4129,
          236,
          1111,
          583,
          1486,
          1428,
          1261,
          3651,
          1293,
          521,
          210,
          1003,
          934,
          207,
          1214,
          3524,
          1164,
          508,
          3826,
          241,
          1314,
          1378,
          1066,
          578,
          1078,
          1314,
          1394,
          586,
          3842,
          228,
          1127,
          250,
          1428,
          4110,
          663,
          1452,
          4384,
          1574,
          1186,
          1497,
          736,
          272,
          1044,
          1374,
          685,
          1443,
          238,
          3981,
          199,
          1248,
          1220,
          3478,
          909,
          566,
          966,
          1332,
          3734,
          1262,
          665,
          238,
          3965,
          247,
          1061,
          1346,
          1456,
          698,
          246,
          1076,
          706,
          1395,
          1473,
          3934,
          1134,
          1539,
          1465,
          243,
          745,
          4101,
          786,
          1551,
          1114,
          272,
          4253,
          1510,
          994,
          3952,
          1372,
          1386,
          230,
          747
         ],
         "y0": " ",
         "yaxis": "y"
        }
       ],
       "layout": {
        "autosize": true,
        "boxmode": "group",
        "legend": {
         "tracegroupgap": 0
        },
        "margin": {
         "t": 60
        },
        "template": {
         "data": {
          "bar": [
           {
            "error_x": {
             "color": "#2a3f5f"
            },
            "error_y": {
             "color": "#2a3f5f"
            },
            "marker": {
             "line": {
              "color": "#E5ECF6",
              "width": 0.5
             },
             "pattern": {
              "fillmode": "overlay",
              "size": 10,
              "solidity": 0.2
             }
            },
            "type": "bar"
           }
          ],
          "barpolar": [
           {
            "marker": {
             "line": {
              "color": "#E5ECF6",
              "width": 0.5
             },
             "pattern": {
              "fillmode": "overlay",
              "size": 10,
              "solidity": 0.2
             }
            },
            "type": "barpolar"
           }
          ],
          "carpet": [
           {
            "aaxis": {
             "endlinecolor": "#2a3f5f",
             "gridcolor": "white",
             "linecolor": "white",
             "minorgridcolor": "white",
             "startlinecolor": "#2a3f5f"
            },
            "baxis": {
             "endlinecolor": "#2a3f5f",
             "gridcolor": "white",
             "linecolor": "white",
             "minorgridcolor": "white",
             "startlinecolor": "#2a3f5f"
            },
            "type": "carpet"
           }
          ],
          "choropleth": [
           {
            "colorbar": {
             "outlinewidth": 0,
             "ticks": ""
            },
            "type": "choropleth"
           }
          ],
          "contour": [
           {
            "colorbar": {
             "outlinewidth": 0,
             "ticks": ""
            },
            "colorscale": [
             [
              0,
              "#0d0887"
             ],
             [
              0.1111111111111111,
              "#46039f"
             ],
             [
              0.2222222222222222,
              "#7201a8"
             ],
             [
              0.3333333333333333,
              "#9c179e"
             ],
             [
              0.4444444444444444,
              "#bd3786"
             ],
             [
              0.5555555555555556,
              "#d8576b"
             ],
             [
              0.6666666666666666,
              "#ed7953"
             ],
             [
              0.7777777777777778,
              "#fb9f3a"
             ],
             [
              0.8888888888888888,
              "#fdca26"
             ],
             [
              1,
              "#f0f921"
             ]
            ],
            "type": "contour"
           }
          ],
          "contourcarpet": [
           {
            "colorbar": {
             "outlinewidth": 0,
             "ticks": ""
            },
            "type": "contourcarpet"
           }
          ],
          "heatmap": [
           {
            "colorbar": {
             "outlinewidth": 0,
             "ticks": ""
            },
            "colorscale": [
             [
              0,
              "#0d0887"
             ],
             [
              0.1111111111111111,
              "#46039f"
             ],
             [
              0.2222222222222222,
              "#7201a8"
             ],
             [
              0.3333333333333333,
              "#9c179e"
             ],
             [
              0.4444444444444444,
              "#bd3786"
             ],
             [
              0.5555555555555556,
              "#d8576b"
             ],
             [
              0.6666666666666666,
              "#ed7953"
             ],
             [
              0.7777777777777778,
              "#fb9f3a"
             ],
             [
              0.8888888888888888,
              "#fdca26"
             ],
             [
              1,
              "#f0f921"
             ]
            ],
            "type": "heatmap"
           }
          ],
          "heatmapgl": [
           {
            "colorbar": {
             "outlinewidth": 0,
             "ticks": ""
            },
            "colorscale": [
             [
              0,
              "#0d0887"
             ],
             [
              0.1111111111111111,
              "#46039f"
             ],
             [
              0.2222222222222222,
              "#7201a8"
             ],
             [
              0.3333333333333333,
              "#9c179e"
             ],
             [
              0.4444444444444444,
              "#bd3786"
             ],
             [
              0.5555555555555556,
              "#d8576b"
             ],
             [
              0.6666666666666666,
              "#ed7953"
             ],
             [
              0.7777777777777778,
              "#fb9f3a"
             ],
             [
              0.8888888888888888,
              "#fdca26"
             ],
             [
              1,
              "#f0f921"
             ]
            ],
            "type": "heatmapgl"
           }
          ],
          "histogram": [
           {
            "marker": {
             "pattern": {
              "fillmode": "overlay",
              "size": 10,
              "solidity": 0.2
             }
            },
            "type": "histogram"
           }
          ],
          "histogram2d": [
           {
            "colorbar": {
             "outlinewidth": 0,
             "ticks": ""
            },
            "colorscale": [
             [
              0,
              "#0d0887"
             ],
             [
              0.1111111111111111,
              "#46039f"
             ],
             [
              0.2222222222222222,
              "#7201a8"
             ],
             [
              0.3333333333333333,
              "#9c179e"
             ],
             [
              0.4444444444444444,
              "#bd3786"
             ],
             [
              0.5555555555555556,
              "#d8576b"
             ],
             [
              0.6666666666666666,
              "#ed7953"
             ],
             [
              0.7777777777777778,
              "#fb9f3a"
             ],
             [
              0.8888888888888888,
              "#fdca26"
             ],
             [
              1,
              "#f0f921"
             ]
            ],
            "type": "histogram2d"
           }
          ],
          "histogram2dcontour": [
           {
            "colorbar": {
             "outlinewidth": 0,
             "ticks": ""
            },
            "colorscale": [
             [
              0,
              "#0d0887"
             ],
             [
              0.1111111111111111,
              "#46039f"
             ],
             [
              0.2222222222222222,
              "#7201a8"
             ],
             [
              0.3333333333333333,
              "#9c179e"
             ],
             [
              0.4444444444444444,
              "#bd3786"
             ],
             [
              0.5555555555555556,
              "#d8576b"
             ],
             [
              0.6666666666666666,
              "#ed7953"
             ],
             [
              0.7777777777777778,
              "#fb9f3a"
             ],
             [
              0.8888888888888888,
              "#fdca26"
             ],
             [
              1,
              "#f0f921"
             ]
            ],
            "type": "histogram2dcontour"
           }
          ],
          "mesh3d": [
           {
            "colorbar": {
             "outlinewidth": 0,
             "ticks": ""
            },
            "type": "mesh3d"
           }
          ],
          "parcoords": [
           {
            "line": {
             "colorbar": {
              "outlinewidth": 0,
              "ticks": ""
             }
            },
            "type": "parcoords"
           }
          ],
          "pie": [
           {
            "automargin": true,
            "type": "pie"
           }
          ],
          "scatter": [
           {
            "fillpattern": {
             "fillmode": "overlay",
             "size": 10,
             "solidity": 0.2
            },
            "type": "scatter"
           }
          ],
          "scatter3d": [
           {
            "line": {
             "colorbar": {
              "outlinewidth": 0,
              "ticks": ""
             }
            },
            "marker": {
             "colorbar": {
              "outlinewidth": 0,
              "ticks": ""
             }
            },
            "type": "scatter3d"
           }
          ],
          "scattercarpet": [
           {
            "marker": {
             "colorbar": {
              "outlinewidth": 0,
              "ticks": ""
             }
            },
            "type": "scattercarpet"
           }
          ],
          "scattergeo": [
           {
            "marker": {
             "colorbar": {
              "outlinewidth": 0,
              "ticks": ""
             }
            },
            "type": "scattergeo"
           }
          ],
          "scattergl": [
           {
            "marker": {
             "colorbar": {
              "outlinewidth": 0,
              "ticks": ""
             }
            },
            "type": "scattergl"
           }
          ],
          "scattermapbox": [
           {
            "marker": {
             "colorbar": {
              "outlinewidth": 0,
              "ticks": ""
             }
            },
            "type": "scattermapbox"
           }
          ],
          "scatterpolar": [
           {
            "marker": {
             "colorbar": {
              "outlinewidth": 0,
              "ticks": ""
             }
            },
            "type": "scatterpolar"
           }
          ],
          "scatterpolargl": [
           {
            "marker": {
             "colorbar": {
              "outlinewidth": 0,
              "ticks": ""
             }
            },
            "type": "scatterpolargl"
           }
          ],
          "scatterternary": [
           {
            "marker": {
             "colorbar": {
              "outlinewidth": 0,
              "ticks": ""
             }
            },
            "type": "scatterternary"
           }
          ],
          "surface": [
           {
            "colorbar": {
             "outlinewidth": 0,
             "ticks": ""
            },
            "colorscale": [
             [
              0,
              "#0d0887"
             ],
             [
              0.1111111111111111,
              "#46039f"
             ],
             [
              0.2222222222222222,
              "#7201a8"
             ],
             [
              0.3333333333333333,
              "#9c179e"
             ],
             [
              0.4444444444444444,
              "#bd3786"
             ],
             [
              0.5555555555555556,
              "#d8576b"
             ],
             [
              0.6666666666666666,
              "#ed7953"
             ],
             [
              0.7777777777777778,
              "#fb9f3a"
             ],
             [
              0.8888888888888888,
              "#fdca26"
             ],
             [
              1,
              "#f0f921"
             ]
            ],
            "type": "surface"
           }
          ],
          "table": [
           {
            "cells": {
             "fill": {
              "color": "#EBF0F8"
             },
             "line": {
              "color": "white"
             }
            },
            "header": {
             "fill": {
              "color": "#C8D4E3"
             },
             "line": {
              "color": "white"
             }
            },
            "type": "table"
           }
          ]
         },
         "layout": {
          "annotationdefaults": {
           "arrowcolor": "#2a3f5f",
           "arrowhead": 0,
           "arrowwidth": 1
          },
          "autotypenumbers": "strict",
          "coloraxis": {
           "colorbar": {
            "outlinewidth": 0,
            "ticks": ""
           }
          },
          "colorscale": {
           "diverging": [
            [
             0,
             "#8e0152"
            ],
            [
             0.1,
             "#c51b7d"
            ],
            [
             0.2,
             "#de77ae"
            ],
            [
             0.3,
             "#f1b6da"
            ],
            [
             0.4,
             "#fde0ef"
            ],
            [
             0.5,
             "#f7f7f7"
            ],
            [
             0.6,
             "#e6f5d0"
            ],
            [
             0.7,
             "#b8e186"
            ],
            [
             0.8,
             "#7fbc41"
            ],
            [
             0.9,
             "#4d9221"
            ],
            [
             1,
             "#276419"
            ]
           ],
           "sequential": [
            [
             0,
             "#0d0887"
            ],
            [
             0.1111111111111111,
             "#46039f"
            ],
            [
             0.2222222222222222,
             "#7201a8"
            ],
            [
             0.3333333333333333,
             "#9c179e"
            ],
            [
             0.4444444444444444,
             "#bd3786"
            ],
            [
             0.5555555555555556,
             "#d8576b"
            ],
            [
             0.6666666666666666,
             "#ed7953"
            ],
            [
             0.7777777777777778,
             "#fb9f3a"
            ],
            [
             0.8888888888888888,
             "#fdca26"
            ],
            [
             1,
             "#f0f921"
            ]
           ],
           "sequentialminus": [
            [
             0,
             "#0d0887"
            ],
            [
             0.1111111111111111,
             "#46039f"
            ],
            [
             0.2222222222222222,
             "#7201a8"
            ],
            [
             0.3333333333333333,
             "#9c179e"
            ],
            [
             0.4444444444444444,
             "#bd3786"
            ],
            [
             0.5555555555555556,
             "#d8576b"
            ],
            [
             0.6666666666666666,
             "#ed7953"
            ],
            [
             0.7777777777777778,
             "#fb9f3a"
            ],
            [
             0.8888888888888888,
             "#fdca26"
            ],
            [
             1,
             "#f0f921"
            ]
           ]
          },
          "colorway": [
           "#636efa",
           "#EF553B",
           "#00cc96",
           "#ab63fa",
           "#FFA15A",
           "#19d3f3",
           "#FF6692",
           "#B6E880",
           "#FF97FF",
           "#FECB52"
          ],
          "font": {
           "color": "#2a3f5f"
          },
          "geo": {
           "bgcolor": "white",
           "lakecolor": "white",
           "landcolor": "#E5ECF6",
           "showlakes": true,
           "showland": true,
           "subunitcolor": "white"
          },
          "hoverlabel": {
           "align": "left"
          },
          "hovermode": "closest",
          "mapbox": {
           "style": "light"
          },
          "paper_bgcolor": "white",
          "plot_bgcolor": "#E5ECF6",
          "polar": {
           "angularaxis": {
            "gridcolor": "white",
            "linecolor": "white",
            "ticks": ""
           },
           "bgcolor": "#E5ECF6",
           "radialaxis": {
            "gridcolor": "white",
            "linecolor": "white",
            "ticks": ""
           }
          },
          "scene": {
           "xaxis": {
            "backgroundcolor": "#E5ECF6",
            "gridcolor": "white",
            "gridwidth": 2,
            "linecolor": "white",
            "showbackground": true,
            "ticks": "",
            "zerolinecolor": "white"
           },
           "yaxis": {
            "backgroundcolor": "#E5ECF6",
            "gridcolor": "white",
            "gridwidth": 2,
            "linecolor": "white",
            "showbackground": true,
            "ticks": "",
            "zerolinecolor": "white"
           },
           "zaxis": {
            "backgroundcolor": "#E5ECF6",
            "gridcolor": "white",
            "gridwidth": 2,
            "linecolor": "white",
            "showbackground": true,
            "ticks": "",
            "zerolinecolor": "white"
           }
          },
          "shapedefaults": {
           "line": {
            "color": "#2a3f5f"
           }
          },
          "ternary": {
           "aaxis": {
            "gridcolor": "white",
            "linecolor": "white",
            "ticks": ""
           },
           "baxis": {
            "gridcolor": "white",
            "linecolor": "white",
            "ticks": ""
           },
           "bgcolor": "#E5ECF6",
           "caxis": {
            "gridcolor": "white",
            "linecolor": "white",
            "ticks": ""
           }
          },
          "title": {
           "x": 0.05
          },
          "xaxis": {
           "automargin": true,
           "gridcolor": "white",
           "linecolor": "white",
           "ticks": "",
           "title": {
            "standoff": 15
           },
           "zerolinecolor": "white",
           "zerolinewidth": 2
          },
          "yaxis": {
           "automargin": true,
           "gridcolor": "white",
           "linecolor": "white",
           "ticks": "",
           "title": {
            "standoff": 15
           },
           "zerolinecolor": "white",
           "zerolinewidth": 2
          }
         }
        },
        "xaxis": {
         "anchor": "y",
         "autorange": true,
         "domain": [
          0,
          1
         ],
         "range": [
          -0.5,
          5.5
         ],
         "title": {
          "text": "dispatching_base_number"
         },
         "type": "category"
        },
        "yaxis": {
         "anchor": "x",
         "autorange": true,
         "domain": [
          0,
          1
         ],
         "range": [
          -125.94444444444446,
          4632.944444444444
         ],
         "title": {
          "text": "active_vehicles"
         },
         "type": "linear"
        }
       }
      },
      "image/png": "[encoded data removed]",
      "text/html": [
       "<div>                            <div id=\"20ec1da7-adbc-482c-a84d-e536c39c3f2d\" class=\"plotly-graph-div\" style=\"height:525px; width:100%;\"></div>            <script type=\"text/javascript\">                require([\"plotly\"], function(Plotly) {                    window.PLOTLYENV=window.PLOTLYENV || {};                                    if (document.getElementById(\"20ec1da7-adbc-482c-a84d-e536c39c3f2d\")) {                    Plotly.newPlot(                        \"20ec1da7-adbc-482c-a84d-e536c39c3f2d\",                        [{\"alignmentgroup\":\"True\",\"hovertemplate\":\"dispatching_base_number=%{x}<br>active_vehicles=%{y}<extra></extra>\",\"legendgroup\":\"\",\"marker\":{\"color\":\"#636efa\"},\"name\":\"\",\"notched\":false,\"offsetgroup\":\"\",\"orientation\":\"v\",\"showlegend\":false,\"x\":[\"B02512\",\"B02765\",\"B02764\",\"B02682\",\"B02617\",\"B02598\",\"B02598\",\"B02617\",\"B02512\",\"B02682\",\"B02765\",\"B02764\",\"B02765\",\"B02617\",\"B02598\",\"B02682\",\"B02512\",\"B02764\",\"B02512\",\"B02682\",\"B02598\",\"B02765\",\"B02617\",\"B02764\",\"B02512\",\"B02682\",\"B02617\",\"B02764\",\"B02598\",\"B02765\",\"B02764\",\"B02682\",\"B02617\",\"B02765\",\"B02512\",\"B02598\",\"B02617\",\"B02682\",\"B02764\",\"B02765\",\"B02512\",\"B02598\",\"B02765\",\"B02598\",\"B02512\",\"B02682\",\"B02764\",\"B02617\",\"B02617\",\"B02512\",\"B02764\",\"B02682\",\"B02598\",\"B02765\",\"B02682\",\"B02617\",\"B02598\",\"B02512\",\"B02764\",\"B02765\",\"B02765\",\"B02598\",\"B02682\",\"B02764\",\"B02617\",\"B02512\",\"B02764\",\"B02765\",\"B02512\",\"B02598\",\"B02682\",\"B02617\",\"B02765\",\"B02598\",\"B02617\",\"B02512\",\"B02764\",\"B02682\",\"B02764\",\"B02765\",\"B02598\",\"B02512\",\"B02617\",\"B02682\",\"B02512\",\"B02682\",\"B02617\",\"B02765\",\"B02764\",\"B02598\",\"B02617\",\"B02765\",\"B02764\",\"B02682\",\"B02512\",\"B02598\",\"B02598\",\"B02512\",\"B02682\",\"B02765\",\"B02617\",\"B02764\",\"B02512\",\"B02598\",\"B02765\",\"B02764\",\"B02682\",\"B02617\",\"B02682\",\"B02617\",\"B02765\",\"B02764\",\"B02512\",\"B02598\",\"B02598\",\"B02682\",\"B02512\",\"B02764\",\"B02765\",\"B02617\",\"B02764\",\"B02512\",\"B02682\",\"B02598\",\"B02765\",\"B02617\",\"B02617\",\"B02764\",\"B02512\",\"B02598\",\"B02682\",\"B02765\",\"B02598\",\"B02512\",\"B02765\",\"B02764\",\"B02617\",\"B02682\",\"B02598\",\"B02764\",\"B02512\",\"B02617\",\"B02682\",\"B02765\",\"B02512\",\"B02764\",\"B02765\",\"B02598\",\"B02682\",\"B02617\",\"B02617\",\"B02598\",\"B02765\",\"B02764\",\"B02682\",\"B02512\",\"B02682\",\"B02765\",\"B02617\",\"B02598\",\"B02512\",\"B02764\",\"B02764\",\"B02682\",\"B02765\",\"B02617\",\"B02598\",\"B02512\",\"B02617\",\"B02764\",\"B02682\",\"B02765\",\"B02512\",\"B02598\",\"B02512\",\"B02617\",\"B02682\",\"B02764\",\"B02765\",\"B02598\",\"B02765\",\"B02512\",\"B02617\",\"B02682\",\"B02764\",\"B02598\",\"B02598\",\"B02682\",\"B02512\",\"B02765\",\"B02617\",\"B02764\",\"B02617\",\"B02682\",\"B02765\",\"B02598\",\"B02764\",\"B02512\",\"B02765\",\"B02598\",\"B02512\",\"B02764\",\"B02617\",\"B02682\",\"B02764\",\"B02765\",\"B02512\",\"B02682\",\"B02617\",\"B02598\",\"B02617\",\"B02682\",\"B02598\",\"B02512\",\"B02765\",\"B02764\",\"B02617\",\"B02765\",\"B02598\",\"B02512\",\"B02764\",\"B02682\",\"B02598\",\"B02512\",\"B02617\",\"B02682\",\"B02764\",\"B02765\",\"B02764\",\"B02765\",\"B02598\",\"B02617\",\"B02682\",\"B02512\",\"B02617\",\"B02682\",\"B02598\",\"B02764\",\"B02512\",\"B02765\",\"B02764\",\"B02512\",\"B02617\",\"B02765\",\"B02682\",\"B02598\",\"B02617\",\"B02764\",\"B02512\",\"B02598\",\"B02765\",\"B02682\",\"B02617\",\"B02512\",\"B02682\",\"B02765\",\"B02598\",\"B02764\",\"B02617\",\"B02682\",\"B02764\",\"B02765\",\"B02512\",\"B02598\",\"B02764\",\"B02512\",\"B02598\",\"B02765\",\"B02617\",\"B02682\",\"B02682\",\"B02764\",\"B02617\",\"B02765\",\"B02512\",\"B02598\",\"B02598\",\"B02512\",\"B02617\",\"B02764\",\"B02682\",\"B02765\",\"B02764\",\"B02512\",\"B02682\",\"B02617\",\"B02598\",\"B02765\",\"B02598\",\"B02682\",\"B02617\",\"B02765\",\"B02764\",\"B02512\",\"B02598\",\"B02512\",\"B02682\",\"B02764\",\"B02765\",\"B02617\",\"B02764\",\"B02617\",\"B02598\",\"B02682\",\"B02765\",\"B02512\",\"B02598\",\"B02682\",\"B02765\",\"B02617\",\"B02512\",\"B02764\",\"B02512\",\"B02617\",\"B02682\",\"B02764\",\"B02598\",\"B02765\",\"B02598\",\"B02617\",\"B02764\",\"B02682\",\"B02765\",\"B02512\",\"B02764\",\"B02512\",\"B02598\",\"B02682\",\"B02617\",\"B02765\",\"B02512\",\"B02598\",\"B02765\",\"B02682\",\"B02617\",\"B02764\",\"B02598\",\"B02617\",\"B02682\",\"B02512\",\"B02765\",\"B02764\",\"B02765\",\"B02617\",\"B02598\",\"B02512\",\"B02764\",\"B02682\",\"B02598\",\"B02764\",\"B02617\",\"B02682\",\"B02512\",\"B02765\"],\"x0\":\" \",\"xaxis\":\"x\",\"y\":[190,225,3427,945,1228,870,785,1137,175,890,196,3147,201,1188,818,915,173,3215,147,812,746,183,1088,2862,194,951,1218,3387,907,227,3473,1022,1336,234,218,933,1363,1039,3603,248,217,974,262,1070,238,1135,3831,1463,1455,224,3820,1140,1070,280,1057,1331,949,206,3558,245,220,832,943,3186,1228,162,3499,279,217,964,1082,1323,258,975,1342,234,3658,1092,3736,271,1030,233,1405,1174,237,1208,1457,270,3840,1068,1445,290,3975,1250,234,1079,974,201,1137,252,1306,3657,177,869,248,3290,1056,1223,883,992,238,2958,168,706,944,1151,221,3654,272,1350,3718,242,1228,1035,296,1429,1471,3889,246,1071,1295,295,1093,246,299,4040,1482,1330,945,3652,211,1367,1223,245,183,3300,226,829,1046,1203,1150,860,230,3012,1084,197,600,135,596,434,112,1619,3692,1235,286,1356,1011,235,1474,3959,1316,295,250,1082,256,1501,1384,4124,322,1106,309,225,1394,1321,3947,1027,961,1214,193,289,1355,3740,1217,1152,275,939,3270,227,299,991,257,3674,1350,1269,3856,309,244,1311,1393,1072,1524,1418,1179,264,355,4093,1526,385,1181,261,4170,1414,1031,211,1383,1300,3849,345,3422,313,923,1256,1136,176,1312,1241,976,3543,228,388,3700,233,1364,422,1281,1029,1450,3849,255,1115,450,1396,1532,269,1468,536,1181,4137,1590,1523,4395,599,281,1216,4129,236,1111,583,1486,1428,1261,3651,1293,521,210,1003,934,207,1214,3524,1164,508,3826,241,1314,1378,1066,578,1078,1314,1394,586,3842,228,1127,250,1428,4110,663,1452,4384,1574,1186,1497,736,272,1044,1374,685,1443,238,3981,199,1248,1220,3478,909,566,966,1332,3734,1262,665,238,3965,247,1061,1346,1456,698,246,1076,706,1395,1473,3934,1134,1539,1465,243,745,4101,786,1551,1114,272,4253,1510,994,3952,1372,1386,230,747],\"y0\":\" \",\"yaxis\":\"y\",\"type\":\"box\"}],                        {\"template\":{\"data\":{\"histogram2dcontour\":[{\"type\":\"histogram2dcontour\",\"colorbar\":{\"outlinewidth\":0,\"ticks\":\"\"},\"colorscale\":[[0.0,\"#0d0887\"],[0.1111111111111111,\"#46039f\"],[0.2222222222222222,\"#7201a8\"],[0.3333333333333333,\"#9c179e\"],[0.4444444444444444,\"#bd3786\"],[0.5555555555555556,\"#d8576b\"],[0.6666666666666666,\"#ed7953\"],[0.7777777777777778,\"#fb9f3a\"],[0.8888888888888888,\"#fdca26\"],[1.0,\"#f0f921\"]]}],\"choropleth\":[{\"type\":\"choropleth\",\"colorbar\":{\"outlinewidth\":0,\"ticks\":\"\"}}],\"histogram2d\":[{\"type\":\"histogram2d\",\"colorbar\":{\"outlinewidth\":0,\"ticks\":\"\"},\"colorscale\":[[0.0,\"#0d0887\"],[0.1111111111111111,\"#46039f\"],[0.2222222222222222,\"#7201a8\"],[0.3333333333333333,\"#9c179e\"],[0.4444444444444444,\"#bd3786\"],[0.5555555555555556,\"#d8576b\"],[0.6666666666666666,\"#ed7953\"],[0.7777777777777778,\"#fb9f3a\"],[0.8888888888888888,\"#fdca26\"],[1.0,\"#f0f921\"]]}],\"heatmap\":[{\"type\":\"heatmap\",\"colorbar\":{\"outlinewidth\":0,\"ticks\":\"\"},\"colorscale\":[[0.0,\"#0d0887\"],[0.1111111111111111,\"#46039f\"],[0.2222222222222222,\"#7201a8\"],[0.3333333333333333,\"#9c179e\"],[0.4444444444444444,\"#bd3786\"],[0.5555555555555556,\"#d8576b\"],[0.6666666666666666,\"#ed7953\"],[0.7777777777777778,\"#fb9f3a\"],[0.8888888888888888,\"#fdca26\"],[1.0,\"#f0f921\"]]}],\"heatmapgl\":[{\"type\":\"heatmapgl\",\"colorbar\":{\"outlinewidth\":0,\"ticks\":\"\"},\"colorscale\":[[0.0,\"#0d0887\"],[0.1111111111111111,\"#46039f\"],[0.2222222222222222,\"#7201a8\"],[0.3333333333333333,\"#9c179e\"],[0.4444444444444444,\"#bd3786\"],[0.5555555555555556,\"#d8576b\"],[0.6666666666666666,\"#ed7953\"],[0.7777777777777778,\"#fb9f3a\"],[0.8888888888888888,\"#fdca26\"],[1.0,\"#f0f921\"]]}],\"contourcarpet\":[{\"type\":\"contourcarpet\",\"colorbar\":{\"outlinewidth\":0,\"ticks\":\"\"}}],\"contour\":[{\"type\":\"contour\",\"colorbar\":{\"outlinewidth\":0,\"ticks\":\"\"},\"colorscale\":[[0.0,\"#0d0887\"],[0.1111111111111111,\"#46039f\"],[0.2222222222222222,\"#7201a8\"],[0.3333333333333333,\"#9c179e\"],[0.4444444444444444,\"#bd3786\"],[0.5555555555555556,\"#d8576b\"],[0.6666666666666666,\"#ed7953\"],[0.7777777777777778,\"#fb9f3a\"],[0.8888888888888888,\"#fdca26\"],[1.0,\"#f0f921\"]]}],\"surface\":[{\"type\":\"surface\",\"colorbar\":{\"outlinewidth\":0,\"ticks\":\"\"},\"colorscale\":[[0.0,\"#0d0887\"],[0.1111111111111111,\"#46039f\"],[0.2222222222222222,\"#7201a8\"],[0.3333333333333333,\"#9c179e\"],[0.4444444444444444,\"#bd3786\"],[0.5555555555555556,\"#d8576b\"],[0.6666666666666666,\"#ed7953\"],[0.7777777777777778,\"#fb9f3a\"],[0.8888888888888888,\"#fdca26\"],[1.0,\"#f0f921\"]]}],\"mesh3d\":[{\"type\":\"mesh3d\",\"colorbar\":{\"outlinewidth\":0,\"ticks\":\"\"}}],\"scatter\":[{\"fillpattern\":{\"fillmode\":\"overlay\",\"size\":10,\"solidity\":0.2},\"type\":\"scatter\"}],\"parcoords\":[{\"type\":\"parcoords\",\"line\":{\"colorbar\":{\"outlinewidth\":0,\"ticks\":\"\"}}}],\"scatterpolargl\":[{\"type\":\"scatterpolargl\",\"marker\":{\"colorbar\":{\"outlinewidth\":0,\"ticks\":\"\"}}}],\"bar\":[{\"error_x\":{\"color\":\"#2a3f5f\"},\"error_y\":{\"color\":\"#2a3f5f\"},\"marker\":{\"line\":{\"color\":\"#E5ECF6\",\"width\":0.5},\"pattern\":{\"fillmode\":\"overlay\",\"size\":10,\"solidity\":0.2}},\"type\":\"bar\"}],\"scattergeo\":[{\"type\":\"scattergeo\",\"marker\":{\"colorbar\":{\"outlinewidth\":0,\"ticks\":\"\"}}}],\"scatterpolar\":[{\"type\":\"scatterpolar\",\"marker\":{\"colorbar\":{\"outlinewidth\":0,\"ticks\":\"\"}}}],\"histogram\":[{\"marker\":{\"pattern\":{\"fillmode\":\"overlay\",\"size\":10,\"solidity\":0.2}},\"type\":\"histogram\"}],\"scattergl\":[{\"type\":\"scattergl\",\"marker\":{\"colorbar\":{\"outlinewidth\":0,\"ticks\":\"\"}}}],\"scatter3d\":[{\"type\":\"scatter3d\",\"line\":{\"colorbar\":{\"outlinewidth\":0,\"ticks\":\"\"}},\"marker\":{\"colorbar\":{\"outlinewidth\":0,\"ticks\":\"\"}}}],\"scattermapbox\":[{\"type\":\"scattermapbox\",\"marker\":{\"colorbar\":{\"outlinewidth\":0,\"ticks\":\"\"}}}],\"scatterternary\":[{\"type\":\"scatterternary\",\"marker\":{\"colorbar\":{\"outlinewidth\":0,\"ticks\":\"\"}}}],\"scattercarpet\":[{\"type\":\"scattercarpet\",\"marker\":{\"colorbar\":{\"outlinewidth\":0,\"ticks\":\"\"}}}],\"carpet\":[{\"aaxis\":{\"endlinecolor\":\"#2a3f5f\",\"gridcolor\":\"white\",\"linecolor\":\"white\",\"minorgridcolor\":\"white\",\"startlinecolor\":\"#2a3f5f\"},\"baxis\":{\"endlinecolor\":\"#2a3f5f\",\"gridcolor\":\"white\",\"linecolor\":\"white\",\"minorgridcolor\":\"white\",\"startlinecolor\":\"#2a3f5f\"},\"type\":\"carpet\"}],\"table\":[{\"cells\":{\"fill\":{\"color\":\"#EBF0F8\"},\"line\":{\"color\":\"white\"}},\"header\":{\"fill\":{\"color\":\"#C8D4E3\"},\"line\":{\"color\":\"white\"}},\"type\":\"table\"}],\"barpolar\":[{\"marker\":{\"line\":{\"color\":\"#E5ECF6\",\"width\":0.5},\"pattern\":{\"fillmode\":\"overlay\",\"size\":10,\"solidity\":0.2}},\"type\":\"barpolar\"}],\"pie\":[{\"automargin\":true,\"type\":\"pie\"}]},\"layout\":{\"autotypenumbers\":\"strict\",\"colorway\":[\"#636efa\",\"#EF553B\",\"#00cc96\",\"#ab63fa\",\"#FFA15A\",\"#19d3f3\",\"#FF6692\",\"#B6E880\",\"#FF97FF\",\"#FECB52\"],\"font\":{\"color\":\"#2a3f5f\"},\"hovermode\":\"closest\",\"hoverlabel\":{\"align\":\"left\"},\"paper_bgcolor\":\"white\",\"plot_bgcolor\":\"#E5ECF6\",\"polar\":{\"bgcolor\":\"#E5ECF6\",\"angularaxis\":{\"gridcolor\":\"white\",\"linecolor\":\"white\",\"ticks\":\"\"},\"radialaxis\":{\"gridcolor\":\"white\",\"linecolor\":\"white\",\"ticks\":\"\"}},\"ternary\":{\"bgcolor\":\"#E5ECF6\",\"aaxis\":{\"gridcolor\":\"white\",\"linecolor\":\"white\",\"ticks\":\"\"},\"baxis\":{\"gridcolor\":\"white\",\"linecolor\":\"white\",\"ticks\":\"\"},\"caxis\":{\"gridcolor\":\"white\",\"linecolor\":\"white\",\"ticks\":\"\"}},\"coloraxis\":{\"colorbar\":{\"outlinewidth\":0,\"ticks\":\"\"}},\"colorscale\":{\"sequential\":[[0.0,\"#0d0887\"],[0.1111111111111111,\"#46039f\"],[0.2222222222222222,\"#7201a8\"],[0.3333333333333333,\"#9c179e\"],[0.4444444444444444,\"#bd3786\"],[0.5555555555555556,\"#d8576b\"],[0.6666666666666666,\"#ed7953\"],[0.7777777777777778,\"#fb9f3a\"],[0.8888888888888888,\"#fdca26\"],[1.0,\"#f0f921\"]],\"sequentialminus\":[[0.0,\"#0d0887\"],[0.1111111111111111,\"#46039f\"],[0.2222222222222222,\"#7201a8\"],[0.3333333333333333,\"#9c179e\"],[0.4444444444444444,\"#bd3786\"],[0.5555555555555556,\"#d8576b\"],[0.6666666666666666,\"#ed7953\"],[0.7777777777777778,\"#fb9f3a\"],[0.8888888888888888,\"#fdca26\"],[1.0,\"#f0f921\"]],\"diverging\":[[0,\"#8e0152\"],[0.1,\"#c51b7d\"],[0.2,\"#de77ae\"],[0.3,\"#f1b6da\"],[0.4,\"#fde0ef\"],[0.5,\"#f7f7f7\"],[0.6,\"#e6f5d0\"],[0.7,\"#b8e186\"],[0.8,\"#7fbc41\"],[0.9,\"#4d9221\"],[1,\"#276419\"]]},\"xaxis\":{\"gridcolor\":\"white\",\"linecolor\":\"white\",\"ticks\":\"\",\"title\":{\"standoff\":15},\"zerolinecolor\":\"white\",\"automargin\":true,\"zerolinewidth\":2},\"yaxis\":{\"gridcolor\":\"white\",\"linecolor\":\"white\",\"ticks\":\"\",\"title\":{\"standoff\":15},\"zerolinecolor\":\"white\",\"automargin\":true,\"zerolinewidth\":2},\"scene\":{\"xaxis\":{\"backgroundcolor\":\"#E5ECF6\",\"gridcolor\":\"white\",\"linecolor\":\"white\",\"showbackground\":true,\"ticks\":\"\",\"zerolinecolor\":\"white\",\"gridwidth\":2},\"yaxis\":{\"backgroundcolor\":\"#E5ECF6\",\"gridcolor\":\"white\",\"linecolor\":\"white\",\"showbackground\":true,\"ticks\":\"\",\"zerolinecolor\":\"white\",\"gridwidth\":2},\"zaxis\":{\"backgroundcolor\":\"#E5ECF6\",\"gridcolor\":\"white\",\"linecolor\":\"white\",\"showbackground\":true,\"ticks\":\"\",\"zerolinecolor\":\"white\",\"gridwidth\":2}},\"shapedefaults\":{\"line\":{\"color\":\"#2a3f5f\"}},\"annotationdefaults\":{\"arrowcolor\":\"#2a3f5f\",\"arrowhead\":0,\"arrowwidth\":1},\"geo\":{\"bgcolor\":\"white\",\"landcolor\":\"#E5ECF6\",\"subunitcolor\":\"white\",\"showland\":true,\"showlakes\":true,\"lakecolor\":\"white\"},\"title\":{\"x\":0.05},\"mapbox\":{\"style\":\"light\"}}},\"xaxis\":{\"anchor\":\"y\",\"domain\":[0.0,1.0],\"title\":{\"text\":\"dispatching_base_number\"}},\"yaxis\":{\"anchor\":\"x\",\"domain\":[0.0,1.0],\"title\":{\"text\":\"active_vehicles\"}},\"legend\":{\"tracegroupgap\":0},\"margin\":{\"t\":60},\"boxmode\":\"group\"},                        {\"responsive\": true}                    ).then(function(){\n",
       "                            \n",
       "var gd = document.getElementById('20ec1da7-adbc-482c-a84d-e536c39c3f2d');\n",
       "var x = new MutationObserver(function (mutations, observer) {{\n",
       "        var display = window.getComputedStyle(gd).display;\n",
       "        if (!display || display === 'none') {{\n",
       "            console.log([gd, 'removed!']);\n",
       "            Plotly.purge(gd);\n",
       "            observer.disconnect();\n",
       "        }}\n",
       "}});\n",
       "\n",
       "// Listen for the removal of the full notebook cells\n",
       "var notebookContainer = gd.closest('#notebook-container');\n",
       "if (notebookContainer) {{\n",
       "    x.observe(notebookContainer, {childList: true});\n",
       "}}\n",
       "\n",
       "// Listen for the clearing of the current output cell\n",
       "var outputEl = gd.closest('.output');\n",
       "if (outputEl) {{\n",
       "    x.observe(outputEl, {childList: true});\n",
       "}}\n",
       "\n",
       "                        })                };                });            </script>        </div>"
      ]
     },
     "metadata": {},
     "output_type": "display_data"
    }
   ],
   "source": [
    "px.box(x = 'dispatching_base_number', y = 'active_vehicles', data_frame = uber_foil)\n"
   ]
  },
  {
   "cell_type": "markdown",
   "id": "c2c4d3f0-3661-48d6-8f26-c763c347fb6f",
   "metadata": {},
   "source": [
    "Collect entire data & Make it ready for the Data Analysis"
   ]
  },
  {
   "cell_type": "code",
   "execution_count": 86,
   "id": "8515a984-7bc2-413e-b410-da4188f5e980",
   "metadata": {},
   "outputs": [
    {
     "data": {
      "text/plain": [
       "['uber-raw-data-apr14.csv',\n",
       " 'uber-raw-data-aug14.csv',\n",
       " 'uber-raw-data-janjune-15.csv',\n",
       " 'uber-raw-data-janjune-15_sample.csv',\n",
       " 'uber-raw-data-jul14.csv',\n",
       " 'uber-raw-data-jun14.csv',\n",
       " 'uber-raw-data-may14.csv',\n",
       " 'uber-raw-data-sep14.csv']"
      ]
     },
     "execution_count": 86,
     "metadata": {},
     "output_type": "execute_result"
    }
   ],
   "source": [
    "files = os.listdir(r\"C:\\Users\\Srinivasa Rao\\Downloads\\Uber\\Datasets\")[-8:]\n",
    "files"
   ]
  },
  {
   "cell_type": "code",
   "execution_count": 88,
   "id": "cb5e63bf-d695-49b7-8026-3e6c96bb7ba7",
   "metadata": {},
   "outputs": [],
   "source": [
    "files.remove('uber-raw-data-janjune-15.csv')"
   ]
  },
  {
   "cell_type": "code",
   "execution_count": 90,
   "id": "9b63079d-02d0-4b2e-831c-64ef87e76238",
   "metadata": {},
   "outputs": [],
   "source": [
    "files.remove('uber-raw-data-janjune-15_sample.csv')"
   ]
  },
  {
   "cell_type": "code",
   "execution_count": 92,
   "id": "c88645fc-a08f-4f2b-84a6-67bc6615a823",
   "metadata": {},
   "outputs": [
    {
     "data": {
      "text/plain": [
       "['uber-raw-data-apr14.csv',\n",
       " 'uber-raw-data-aug14.csv',\n",
       " 'uber-raw-data-jul14.csv',\n",
       " 'uber-raw-data-jun14.csv',\n",
       " 'uber-raw-data-may14.csv',\n",
       " 'uber-raw-data-sep14.csv']"
      ]
     },
     "execution_count": 92,
     "metadata": {},
     "output_type": "execute_result"
    }
   ],
   "source": [
    "files"
   ]
  },
  {
   "cell_type": "code",
   "execution_count": 100,
   "id": "c2470957-d1a2-45b8-bbdb-ad4b11c486c5",
   "metadata": {},
   "outputs": [],
   "source": [
    "final = pd.DataFrame()\n",
    "path = r\"C:\\Users\\Srinivasa Rao\\Downloads\\Uber\\Datasets\"\n",
    "for file in files :\n",
    "    current_df = pd.read_csv(path+'/'+file)\n",
    "    final = pd.concat([current_df, final])"
   ]
  },
  {
   "cell_type": "code",
   "execution_count": 102,
   "id": "b40ffca4-d04e-4112-9792-3cd54e2afbc7",
   "metadata": {},
   "outputs": [
    {
     "data": {
      "text/plain": [
       "(4534327, 4)"
      ]
     },
     "execution_count": 102,
     "metadata": {},
     "output_type": "execute_result"
    }
   ],
   "source": [
    "final.shape"
   ]
  },
  {
   "cell_type": "code",
   "execution_count": 104,
   "id": "307f8ed1-32bf-4878-bb8e-21365de6f754",
   "metadata": {},
   "outputs": [
    {
     "data": {
      "text/plain": [
       "82581"
      ]
     },
     "execution_count": 104,
     "metadata": {},
     "output_type": "execute_result"
    }
   ],
   "source": [
    "final.duplicated().sum()"
   ]
  },
  {
   "cell_type": "code",
   "execution_count": 106,
   "id": "75d03e7e-28cb-47f2-b74e-9b139907a7c8",
   "metadata": {},
   "outputs": [],
   "source": [
    "final.drop_duplicates(inplace=True)"
   ]
  },
  {
   "cell_type": "code",
   "execution_count": 108,
   "id": "9f6cb5e5-6700-4c72-a970-a995f1489b20",
   "metadata": {},
   "outputs": [
    {
     "data": {
      "text/plain": [
       "(4451746, 4)"
      ]
     },
     "execution_count": 108,
     "metadata": {},
     "output_type": "execute_result"
    }
   ],
   "source": [
    "final.shape"
   ]
  },
  {
   "cell_type": "code",
   "execution_count": 110,
   "id": "c42a6914-8139-4699-b5da-370d2376d16f",
   "metadata": {},
   "outputs": [
    {
     "data": {
      "text/html": [
       "<div>\n",
       "<style scoped>\n",
       "    .dataframe tbody tr th:only-of-type {\n",
       "        vertical-align: middle;\n",
       "    }\n",
       "\n",
       "    .dataframe tbody tr th {\n",
       "        vertical-align: top;\n",
       "    }\n",
       "\n",
       "    .dataframe thead th {\n",
       "        text-align: right;\n",
       "    }\n",
       "</style>\n",
       "<table border=\"1\" class=\"dataframe\">\n",
       "  <thead>\n",
       "    <tr style=\"text-align: right;\">\n",
       "      <th></th>\n",
       "      <th>Date/Time</th>\n",
       "      <th>Lat</th>\n",
       "      <th>Lon</th>\n",
       "      <th>Base</th>\n",
       "    </tr>\n",
       "  </thead>\n",
       "  <tbody>\n",
       "    <tr>\n",
       "      <th>0</th>\n",
       "      <td>9/1/2014 0:01:00</td>\n",
       "      <td>40.2201</td>\n",
       "      <td>-74.0021</td>\n",
       "      <td>B02512</td>\n",
       "    </tr>\n",
       "    <tr>\n",
       "      <th>1</th>\n",
       "      <td>9/1/2014 0:01:00</td>\n",
       "      <td>40.7500</td>\n",
       "      <td>-74.0027</td>\n",
       "      <td>B02512</td>\n",
       "    </tr>\n",
       "    <tr>\n",
       "      <th>2</th>\n",
       "      <td>9/1/2014 0:03:00</td>\n",
       "      <td>40.7559</td>\n",
       "      <td>-73.9864</td>\n",
       "      <td>B02512</td>\n",
       "    </tr>\n",
       "    <tr>\n",
       "      <th>3</th>\n",
       "      <td>9/1/2014 0:06:00</td>\n",
       "      <td>40.7450</td>\n",
       "      <td>-73.9889</td>\n",
       "      <td>B02512</td>\n",
       "    </tr>\n",
       "  </tbody>\n",
       "</table>\n",
       "</div>"
      ],
      "text/plain": [
       "          Date/Time      Lat      Lon    Base\n",
       "0  9/1/2014 0:01:00  40.2201 -74.0021  B02512\n",
       "1  9/1/2014 0:01:00  40.7500 -74.0027  B02512\n",
       "2  9/1/2014 0:03:00  40.7559 -73.9864  B02512\n",
       "3  9/1/2014 0:06:00  40.7450 -73.9889  B02512"
      ]
     },
     "execution_count": 110,
     "metadata": {},
     "output_type": "execute_result"
    }
   ],
   "source": [
    "final.head(4)"
   ]
  },
  {
   "cell_type": "markdown",
   "id": "5ba02607-43a7-42ab-83e5-df216f0c050e",
   "metadata": {},
   "source": [
    "At what locations of New York City we are getting rush?"
   ]
  },
  {
   "cell_type": "code",
   "execution_count": 113,
   "id": "a28dc5c1-9d4c-46ce-99f2-dfae1f5b2248",
   "metadata": {},
   "outputs": [],
   "source": [
    "rush_uber = final.groupby(['Lat', 'Lon'], as_index=False).size()"
   ]
  },
  {
   "cell_type": "code",
   "execution_count": 115,
   "id": "871e29bb-df49-46b6-b0fa-17b05f4d4653",
   "metadata": {},
   "outputs": [
    {
     "data": {
      "text/html": [
       "<div>\n",
       "<style scoped>\n",
       "    .dataframe tbody tr th:only-of-type {\n",
       "        vertical-align: middle;\n",
       "    }\n",
       "\n",
       "    .dataframe tbody tr th {\n",
       "        vertical-align: top;\n",
       "    }\n",
       "\n",
       "    .dataframe thead th {\n",
       "        text-align: right;\n",
       "    }\n",
       "</style>\n",
       "<table border=\"1\" class=\"dataframe\">\n",
       "  <thead>\n",
       "    <tr style=\"text-align: right;\">\n",
       "      <th></th>\n",
       "      <th>Lat</th>\n",
       "      <th>Lon</th>\n",
       "      <th>size</th>\n",
       "    </tr>\n",
       "  </thead>\n",
       "  <tbody>\n",
       "    <tr>\n",
       "      <th>0</th>\n",
       "      <td>39.6569</td>\n",
       "      <td>-74.2258</td>\n",
       "      <td>1</td>\n",
       "    </tr>\n",
       "    <tr>\n",
       "      <th>1</th>\n",
       "      <td>39.6686</td>\n",
       "      <td>-74.1607</td>\n",
       "      <td>1</td>\n",
       "    </tr>\n",
       "    <tr>\n",
       "      <th>2</th>\n",
       "      <td>39.7214</td>\n",
       "      <td>-74.2446</td>\n",
       "      <td>1</td>\n",
       "    </tr>\n",
       "    <tr>\n",
       "      <th>3</th>\n",
       "      <td>39.8416</td>\n",
       "      <td>-74.1512</td>\n",
       "      <td>1</td>\n",
       "    </tr>\n",
       "    <tr>\n",
       "      <th>4</th>\n",
       "      <td>39.9055</td>\n",
       "      <td>-74.0791</td>\n",
       "      <td>1</td>\n",
       "    </tr>\n",
       "    <tr>\n",
       "      <th>5</th>\n",
       "      <td>39.9196</td>\n",
       "      <td>-74.1112</td>\n",
       "      <td>1</td>\n",
       "    </tr>\n",
       "  </tbody>\n",
       "</table>\n",
       "</div>"
      ],
      "text/plain": [
       "       Lat      Lon  size\n",
       "0  39.6569 -74.2258     1\n",
       "1  39.6686 -74.1607     1\n",
       "2  39.7214 -74.2446     1\n",
       "3  39.8416 -74.1512     1\n",
       "4  39.9055 -74.0791     1\n",
       "5  39.9196 -74.1112     1"
      ]
     },
     "execution_count": 115,
     "metadata": {},
     "output_type": "execute_result"
    }
   ],
   "source": [
    "rush_uber.head(6)\n"
   ]
  },
  {
   "cell_type": "code",
   "execution_count": 117,
   "id": "cfd4d30a-1bbd-4e0f-99ed-d75bd3016c42",
   "metadata": {},
   "outputs": [
    {
     "name": "stdout",
     "output_type": "stream",
     "text": [
      "Collecting folium\n",
      "  Downloading folium-0.17.0-py2.py3-none-any.whl.metadata (3.8 kB)\n",
      "Collecting branca>=0.6.0 (from folium)\n",
      "  Downloading branca-0.7.2-py3-none-any.whl.metadata (1.5 kB)\n",
      "Requirement already satisfied: jinja2>=2.9 in c:\\anaconda\\lib\\site-packages (from folium) (3.1.3)\n",
      "Requirement already satisfied: numpy in c:\\anaconda\\lib\\site-packages (from folium) (1.26.4)\n",
      "Requirement already satisfied: requests in c:\\anaconda\\lib\\site-packages (from folium) (2.31.0)\n",
      "Requirement already satisfied: xyzservices in c:\\anaconda\\lib\\site-packages (from folium) (2022.9.0)\n",
      "Requirement already satisfied: MarkupSafe>=2.0 in c:\\anaconda\\lib\\site-packages (from jinja2>=2.9->folium) (2.1.3)\n",
      "Requirement already satisfied: charset-normalizer<4,>=2 in c:\\anaconda\\lib\\site-packages (from requests->folium) (2.0.4)\n",
      "Requirement already satisfied: idna<4,>=2.5 in c:\\anaconda\\lib\\site-packages (from requests->folium) (3.4)\n",
      "Requirement already satisfied: urllib3<3,>=1.21.1 in c:\\anaconda\\lib\\site-packages (from requests->folium) (2.0.7)\n",
      "Requirement already satisfied: certifi>=2017.4.17 in c:\\anaconda\\lib\\site-packages (from requests->folium) (2024.7.4)\n",
      "Downloading folium-0.17.0-py2.py3-none-any.whl (108 kB)\n",
      "   ---------------------------------------- 0.0/108.4 kB ? eta -:--:--\n",
      "   --- ------------------------------------ 10.2/108.4 kB ? eta -:--:--\n",
      "   --- ------------------------------------ 10.2/108.4 kB ? eta -:--:--\n",
      "   --- ------------------------------------ 10.2/108.4 kB ? eta -:--:--\n",
      "   ----------- --------------------------- 30.7/108.4 kB 163.8 kB/s eta 0:00:01\n",
      "   -------------- ------------------------ 41.0/108.4 kB 245.8 kB/s eta 0:00:01\n",
      "   ----------------------------- --------- 81.9/108.4 kB 351.4 kB/s eta 0:00:01\n",
      "   ----------------------------------- -- 102.4/108.4 kB 368.6 kB/s eta 0:00:01\n",
      "   -------------------------------------- 108.4/108.4 kB 313.7 kB/s eta 0:00:00\n",
      "Downloading branca-0.7.2-py3-none-any.whl (25 kB)\n",
      "Installing collected packages: branca, folium\n",
      "Successfully installed branca-0.7.2 folium-0.17.0\n"
     ]
    }
   ],
   "source": [
    "!pip install folium"
   ]
  },
  {
   "cell_type": "code",
   "execution_count": 125,
   "id": "8c5d281a-18bf-472c-ad71-24c210c86633",
   "metadata": {},
   "outputs": [],
   "source": [
    "import folium"
   ]
  },
  {
   "cell_type": "code",
   "execution_count": 127,
   "id": "ecb244b8-3dd6-427f-80d2-bb3e31c123e3",
   "metadata": {},
   "outputs": [],
   "source": [
    "basemap = folium.Map()"
   ]
  },
  {
   "cell_type": "code",
   "execution_count": 129,
   "id": "724a89bf-9e7b-469d-a5f7-b7977643bca6",
   "metadata": {},
   "outputs": [
    {
     "data": {
      "text/html": [
       "<div style=\"width:100%;\"><div style=\"position:relative;width:100%;height:0;padding-bottom:60%;\"><span style=\"color:#565656\">Make this Notebook Trusted to load map: File -> Trust Notebook</span><iframe srcdoc=\"&lt;!DOCTYPE html&gt;\n",
       "&lt;html&gt;\n",
       "&lt;head&gt;\n",
       "    \n",
       "    &lt;meta http-equiv=&quot;content-type&quot; content=&quot;text/html; charset=UTF-8&quot; /&gt;\n",
       "    \n",
       "        &lt;script&gt;\n",
       "            L_NO_TOUCH = false;\n",
       "            L_DISABLE_3D = false;\n",
       "        &lt;/script&gt;\n",
       "    \n",
       "    &lt;style&gt;html, body {width: 100%;height: 100%;margin: 0;padding: 0;}&lt;/style&gt;\n",
       "    &lt;style&gt;#map {position:absolute;top:0;bottom:0;right:0;left:0;}&lt;/style&gt;\n",
       "    &lt;script src=&quot;https://cdn.jsdelivr.net/npm/leaflet@1.9.3/dist/leaflet.js&quot;&gt;&lt;/script&gt;\n",
       "    &lt;script src=&quot;https://code.jquery.com/jquery-3.7.1.min.js&quot;&gt;&lt;/script&gt;\n",
       "    &lt;script src=&quot;https://cdn.jsdelivr.net/npm/bootstrap@5.2.2/dist/js/bootstrap.bundle.min.js&quot;&gt;&lt;/script&gt;\n",
       "    &lt;script src=&quot;https://cdnjs.cloudflare.com/ajax/libs/Leaflet.awesome-markers/2.0.2/leaflet.awesome-markers.js&quot;&gt;&lt;/script&gt;\n",
       "    &lt;link rel=&quot;stylesheet&quot; href=&quot;https://cdn.jsdelivr.net/npm/leaflet@1.9.3/dist/leaflet.css&quot;/&gt;\n",
       "    &lt;link rel=&quot;stylesheet&quot; href=&quot;https://cdn.jsdelivr.net/npm/bootstrap@5.2.2/dist/css/bootstrap.min.css&quot;/&gt;\n",
       "    &lt;link rel=&quot;stylesheet&quot; href=&quot;https://netdna.bootstrapcdn.com/bootstrap/3.0.0/css/bootstrap-glyphicons.css&quot;/&gt;\n",
       "    &lt;link rel=&quot;stylesheet&quot; href=&quot;https://cdn.jsdelivr.net/npm/@fortawesome/fontawesome-free@6.2.0/css/all.min.css&quot;/&gt;\n",
       "    &lt;link rel=&quot;stylesheet&quot; href=&quot;https://cdnjs.cloudflare.com/ajax/libs/Leaflet.awesome-markers/2.0.2/leaflet.awesome-markers.css&quot;/&gt;\n",
       "    &lt;link rel=&quot;stylesheet&quot; href=&quot;https://cdn.jsdelivr.net/gh/python-visualization/folium/folium/templates/leaflet.awesome.rotate.min.css&quot;/&gt;\n",
       "    \n",
       "            &lt;meta name=&quot;viewport&quot; content=&quot;width=device-width,\n",
       "                initial-scale=1.0, maximum-scale=1.0, user-scalable=no&quot; /&gt;\n",
       "            &lt;style&gt;\n",
       "                #map_c3ac367784a26ad7debc80066459c509 {\n",
       "                    position: relative;\n",
       "                    width: 100.0%;\n",
       "                    height: 100.0%;\n",
       "                    left: 0.0%;\n",
       "                    top: 0.0%;\n",
       "                }\n",
       "                .leaflet-container { font-size: 1rem; }\n",
       "            &lt;/style&gt;\n",
       "        \n",
       "&lt;/head&gt;\n",
       "&lt;body&gt;\n",
       "    \n",
       "    \n",
       "            &lt;div class=&quot;folium-map&quot; id=&quot;map_c3ac367784a26ad7debc80066459c509&quot; &gt;&lt;/div&gt;\n",
       "        \n",
       "&lt;/body&gt;\n",
       "&lt;script&gt;\n",
       "    \n",
       "    \n",
       "            var map_c3ac367784a26ad7debc80066459c509 = L.map(\n",
       "                &quot;map_c3ac367784a26ad7debc80066459c509&quot;,\n",
       "                {\n",
       "                    center: [0.0, 0.0],\n",
       "                    crs: L.CRS.EPSG3857,\n",
       "                    zoom: 1,\n",
       "                    zoomControl: true,\n",
       "                    preferCanvas: false,\n",
       "                }\n",
       "            );\n",
       "\n",
       "            \n",
       "\n",
       "        \n",
       "    \n",
       "            var tile_layer_5de1d83f0c90e65734f37632902eef04 = L.tileLayer(\n",
       "                &quot;https://tile.openstreetmap.org/{z}/{x}/{y}.png&quot;,\n",
       "                {&quot;attribution&quot;: &quot;\\u0026copy; \\u003ca href=\\&quot;https://www.openstreetmap.org/copyright\\&quot;\\u003eOpenStreetMap\\u003c/a\\u003e contributors&quot;, &quot;detectRetina&quot;: false, &quot;maxNativeZoom&quot;: 19, &quot;maxZoom&quot;: 19, &quot;minZoom&quot;: 0, &quot;noWrap&quot;: false, &quot;opacity&quot;: 1, &quot;subdomains&quot;: &quot;abc&quot;, &quot;tms&quot;: false}\n",
       "            );\n",
       "        \n",
       "    \n",
       "            tile_layer_5de1d83f0c90e65734f37632902eef04.addTo(map_c3ac367784a26ad7debc80066459c509);\n",
       "        \n",
       "&lt;/script&gt;\n",
       "&lt;/html&gt;\" style=\"position:absolute;width:100%;height:100%;left:0;top:0;border:none !important;\" allowfullscreen webkitallowfullscreen mozallowfullscreen></iframe></div></div>"
      ],
      "text/plain": [
       "<folium.folium.Map at 0x14bbea33210>"
      ]
     },
     "execution_count": 129,
     "metadata": {},
     "output_type": "execute_result"
    }
   ],
   "source": [
    "basemap"
   ]
  },
  {
   "cell_type": "markdown",
   "id": "20f07479-d932-4633-a0da-cbd5b1b5347e",
   "metadata": {},
   "source": [
    "Make this Notebook Trusted to load map: File -> Trust Notebook"
   ]
  },
  {
   "cell_type": "markdown",
   "id": "0046aca3-a4b9-4a48-ad1f-a4ee27bde41f",
   "metadata": {},
   "source": [
    "thank you!!!"
   ]
  },
  {
   "cell_type": "code",
   "execution_count": null,
   "id": "5461fae1-8cb2-4d8c-90c8-bca726f652a6",
   "metadata": {},
   "outputs": [],
   "source": []
  },
  {
   "cell_type": "code",
   "execution_count": null,
   "id": "c4beb66e-dc4d-4837-ad6b-cb5196c25655",
   "metadata": {},
   "outputs": [],
   "source": []
  }
 ],
 "metadata": {
  "kernelspec": {
   "display_name": "Python 3 (ipykernel)",
   "language": "python",
   "name": "python3"
  },
  "language_info": {
   "codemirror_mode": {
    "name": "ipython",
    "version": 3
   },
   "file_extension": ".py",
   "mimetype": "text/x-python",
   "name": "python",
   "nbconvert_exporter": "python",
   "pygments_lexer": "ipython3",
   "version": "3.11.7"
  }
 },
 "nbformat": 4,
 "nbformat_minor": 5
}
